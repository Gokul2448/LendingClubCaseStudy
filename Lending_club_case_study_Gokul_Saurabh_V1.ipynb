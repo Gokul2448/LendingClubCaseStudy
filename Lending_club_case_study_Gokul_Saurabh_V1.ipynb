{
 "cells": [
  {
   "cell_type": "code",
   "execution_count": 179,
   "id": "305150b4-1bd7-4a08-b3dc-12c0f8fa68bb",
   "metadata": {},
   "outputs": [],
   "source": [
    "## import required libraries \n",
    "import numpy as np\n",
    "import pandas as pd\n",
    "import seaborn as sns\n",
    "import matplotlib.pyplot as plt\n",
    "import warnings\n",
    "warnings.filterwarnings('ignore')"
   ]
  },
  {
   "cell_type": "code",
   "execution_count": 180,
   "id": "5c7faa29-62ff-4ac7-aa02-bcb43e7e5497",
   "metadata": {},
   "outputs": [],
   "source": [
    "#Reading the Loan Data\n",
    "loan_data = pd.read_csv(\"loan.csv\")"
   ]
  },
  {
   "cell_type": "code",
   "execution_count": 181,
   "id": "567dd960-ea61-4496-9a53-2f6362a63d15",
   "metadata": {},
   "outputs": [
    {
     "data": {
      "text/html": [
       "<div>\n",
       "<style scoped>\n",
       "    .dataframe tbody tr th:only-of-type {\n",
       "        vertical-align: middle;\n",
       "    }\n",
       "\n",
       "    .dataframe tbody tr th {\n",
       "        vertical-align: top;\n",
       "    }\n",
       "\n",
       "    .dataframe thead th {\n",
       "        text-align: right;\n",
       "    }\n",
       "</style>\n",
       "<table border=\"1\" class=\"dataframe\">\n",
       "  <thead>\n",
       "    <tr style=\"text-align: right;\">\n",
       "      <th></th>\n",
       "      <th>id</th>\n",
       "      <th>member_id</th>\n",
       "      <th>loan_amnt</th>\n",
       "      <th>funded_amnt</th>\n",
       "      <th>funded_amnt_inv</th>\n",
       "      <th>term</th>\n",
       "      <th>int_rate</th>\n",
       "      <th>installment</th>\n",
       "      <th>grade</th>\n",
       "      <th>sub_grade</th>\n",
       "      <th>...</th>\n",
       "      <th>num_tl_90g_dpd_24m</th>\n",
       "      <th>num_tl_op_past_12m</th>\n",
       "      <th>pct_tl_nvr_dlq</th>\n",
       "      <th>percent_bc_gt_75</th>\n",
       "      <th>pub_rec_bankruptcies</th>\n",
       "      <th>tax_liens</th>\n",
       "      <th>tot_hi_cred_lim</th>\n",
       "      <th>total_bal_ex_mort</th>\n",
       "      <th>total_bc_limit</th>\n",
       "      <th>total_il_high_credit_limit</th>\n",
       "    </tr>\n",
       "  </thead>\n",
       "  <tbody>\n",
       "    <tr>\n",
       "      <th>0</th>\n",
       "      <td>1077501</td>\n",
       "      <td>1296599</td>\n",
       "      <td>5000</td>\n",
       "      <td>5000</td>\n",
       "      <td>4975.0</td>\n",
       "      <td>36 months</td>\n",
       "      <td>10.65%</td>\n",
       "      <td>162.87</td>\n",
       "      <td>B</td>\n",
       "      <td>B2</td>\n",
       "      <td>...</td>\n",
       "      <td>NaN</td>\n",
       "      <td>NaN</td>\n",
       "      <td>NaN</td>\n",
       "      <td>NaN</td>\n",
       "      <td>0.0</td>\n",
       "      <td>0.0</td>\n",
       "      <td>NaN</td>\n",
       "      <td>NaN</td>\n",
       "      <td>NaN</td>\n",
       "      <td>NaN</td>\n",
       "    </tr>\n",
       "    <tr>\n",
       "      <th>1</th>\n",
       "      <td>1077430</td>\n",
       "      <td>1314167</td>\n",
       "      <td>2500</td>\n",
       "      <td>2500</td>\n",
       "      <td>2500.0</td>\n",
       "      <td>60 months</td>\n",
       "      <td>15.27%</td>\n",
       "      <td>59.83</td>\n",
       "      <td>C</td>\n",
       "      <td>C4</td>\n",
       "      <td>...</td>\n",
       "      <td>NaN</td>\n",
       "      <td>NaN</td>\n",
       "      <td>NaN</td>\n",
       "      <td>NaN</td>\n",
       "      <td>0.0</td>\n",
       "      <td>0.0</td>\n",
       "      <td>NaN</td>\n",
       "      <td>NaN</td>\n",
       "      <td>NaN</td>\n",
       "      <td>NaN</td>\n",
       "    </tr>\n",
       "    <tr>\n",
       "      <th>2</th>\n",
       "      <td>1077175</td>\n",
       "      <td>1313524</td>\n",
       "      <td>2400</td>\n",
       "      <td>2400</td>\n",
       "      <td>2400.0</td>\n",
       "      <td>36 months</td>\n",
       "      <td>15.96%</td>\n",
       "      <td>84.33</td>\n",
       "      <td>C</td>\n",
       "      <td>C5</td>\n",
       "      <td>...</td>\n",
       "      <td>NaN</td>\n",
       "      <td>NaN</td>\n",
       "      <td>NaN</td>\n",
       "      <td>NaN</td>\n",
       "      <td>0.0</td>\n",
       "      <td>0.0</td>\n",
       "      <td>NaN</td>\n",
       "      <td>NaN</td>\n",
       "      <td>NaN</td>\n",
       "      <td>NaN</td>\n",
       "    </tr>\n",
       "    <tr>\n",
       "      <th>3</th>\n",
       "      <td>1076863</td>\n",
       "      <td>1277178</td>\n",
       "      <td>10000</td>\n",
       "      <td>10000</td>\n",
       "      <td>10000.0</td>\n",
       "      <td>36 months</td>\n",
       "      <td>13.49%</td>\n",
       "      <td>339.31</td>\n",
       "      <td>C</td>\n",
       "      <td>C1</td>\n",
       "      <td>...</td>\n",
       "      <td>NaN</td>\n",
       "      <td>NaN</td>\n",
       "      <td>NaN</td>\n",
       "      <td>NaN</td>\n",
       "      <td>0.0</td>\n",
       "      <td>0.0</td>\n",
       "      <td>NaN</td>\n",
       "      <td>NaN</td>\n",
       "      <td>NaN</td>\n",
       "      <td>NaN</td>\n",
       "    </tr>\n",
       "    <tr>\n",
       "      <th>4</th>\n",
       "      <td>1075358</td>\n",
       "      <td>1311748</td>\n",
       "      <td>3000</td>\n",
       "      <td>3000</td>\n",
       "      <td>3000.0</td>\n",
       "      <td>60 months</td>\n",
       "      <td>12.69%</td>\n",
       "      <td>67.79</td>\n",
       "      <td>B</td>\n",
       "      <td>B5</td>\n",
       "      <td>...</td>\n",
       "      <td>NaN</td>\n",
       "      <td>NaN</td>\n",
       "      <td>NaN</td>\n",
       "      <td>NaN</td>\n",
       "      <td>0.0</td>\n",
       "      <td>0.0</td>\n",
       "      <td>NaN</td>\n",
       "      <td>NaN</td>\n",
       "      <td>NaN</td>\n",
       "      <td>NaN</td>\n",
       "    </tr>\n",
       "  </tbody>\n",
       "</table>\n",
       "<p>5 rows × 111 columns</p>\n",
       "</div>"
      ],
      "text/plain": [
       "        id  member_id  loan_amnt  funded_amnt  funded_amnt_inv        term  \\\n",
       "0  1077501    1296599       5000         5000           4975.0   36 months   \n",
       "1  1077430    1314167       2500         2500           2500.0   60 months   \n",
       "2  1077175    1313524       2400         2400           2400.0   36 months   \n",
       "3  1076863    1277178      10000        10000          10000.0   36 months   \n",
       "4  1075358    1311748       3000         3000           3000.0   60 months   \n",
       "\n",
       "  int_rate  installment grade sub_grade  ... num_tl_90g_dpd_24m  \\\n",
       "0   10.65%       162.87     B        B2  ...                NaN   \n",
       "1   15.27%        59.83     C        C4  ...                NaN   \n",
       "2   15.96%        84.33     C        C5  ...                NaN   \n",
       "3   13.49%       339.31     C        C1  ...                NaN   \n",
       "4   12.69%        67.79     B        B5  ...                NaN   \n",
       "\n",
       "  num_tl_op_past_12m pct_tl_nvr_dlq  percent_bc_gt_75 pub_rec_bankruptcies  \\\n",
       "0                NaN            NaN               NaN                  0.0   \n",
       "1                NaN            NaN               NaN                  0.0   \n",
       "2                NaN            NaN               NaN                  0.0   \n",
       "3                NaN            NaN               NaN                  0.0   \n",
       "4                NaN            NaN               NaN                  0.0   \n",
       "\n",
       "  tax_liens tot_hi_cred_lim total_bal_ex_mort total_bc_limit  \\\n",
       "0       0.0             NaN               NaN            NaN   \n",
       "1       0.0             NaN               NaN            NaN   \n",
       "2       0.0             NaN               NaN            NaN   \n",
       "3       0.0             NaN               NaN            NaN   \n",
       "4       0.0             NaN               NaN            NaN   \n",
       "\n",
       "  total_il_high_credit_limit  \n",
       "0                        NaN  \n",
       "1                        NaN  \n",
       "2                        NaN  \n",
       "3                        NaN  \n",
       "4                        NaN  \n",
       "\n",
       "[5 rows x 111 columns]"
      ]
     },
     "execution_count": 181,
     "metadata": {},
     "output_type": "execute_result"
    }
   ],
   "source": [
    "#printing the first 5 rows from Loan Data\n",
    "loan_data.head()"
   ]
  },
  {
   "cell_type": "code",
   "execution_count": 182,
   "id": "0c6c02a1-d4f6-47b9-a3e4-48f51add9bf3",
   "metadata": {},
   "outputs": [
    {
     "data": {
      "text/plain": [
       "(39717, 111)"
      ]
     },
     "execution_count": 182,
     "metadata": {},
     "output_type": "execute_result"
    }
   ],
   "source": [
    "#Analyzing the shape of loan Data\n",
    "loan_data.shape"
   ]
  },
  {
   "cell_type": "code",
   "execution_count": 183,
   "id": "6bcb7149-2d51-4d93-85d2-37fbc75790f3",
   "metadata": {},
   "outputs": [
    {
     "data": {
      "text/plain": [
       "id                                0\n",
       "member_id                         0\n",
       "loan_amnt                         0\n",
       "funded_amnt                       0\n",
       "funded_amnt_inv                   0\n",
       "                              ...  \n",
       "tax_liens                        39\n",
       "tot_hi_cred_lim               39717\n",
       "total_bal_ex_mort             39717\n",
       "total_bc_limit                39717\n",
       "total_il_high_credit_limit    39717\n",
       "Length: 111, dtype: int64"
      ]
     },
     "execution_count": 183,
     "metadata": {},
     "output_type": "execute_result"
    }
   ],
   "source": [
    "#Find the total of null values in each column\n",
    "loan_data.isnull().sum()"
   ]
  },
  {
   "cell_type": "code",
   "execution_count": 184,
   "id": "91d1f9b4-d95e-4b22-af9a-368676414808",
   "metadata": {},
   "outputs": [
    {
     "data": {
      "text/html": [
       "<div>\n",
       "<style scoped>\n",
       "    .dataframe tbody tr th:only-of-type {\n",
       "        vertical-align: middle;\n",
       "    }\n",
       "\n",
       "    .dataframe tbody tr th {\n",
       "        vertical-align: top;\n",
       "    }\n",
       "\n",
       "    .dataframe thead th {\n",
       "        text-align: right;\n",
       "    }\n",
       "</style>\n",
       "<table border=\"1\" class=\"dataframe\">\n",
       "  <thead>\n",
       "    <tr style=\"text-align: right;\">\n",
       "      <th></th>\n",
       "      <th>id</th>\n",
       "      <th>member_id</th>\n",
       "      <th>loan_amnt</th>\n",
       "      <th>funded_amnt</th>\n",
       "      <th>funded_amnt_inv</th>\n",
       "      <th>term</th>\n",
       "      <th>int_rate</th>\n",
       "      <th>installment</th>\n",
       "      <th>grade</th>\n",
       "      <th>sub_grade</th>\n",
       "      <th>...</th>\n",
       "      <th>next_pymnt_d</th>\n",
       "      <th>last_credit_pull_d</th>\n",
       "      <th>collections_12_mths_ex_med</th>\n",
       "      <th>policy_code</th>\n",
       "      <th>application_type</th>\n",
       "      <th>acc_now_delinq</th>\n",
       "      <th>chargeoff_within_12_mths</th>\n",
       "      <th>delinq_amnt</th>\n",
       "      <th>pub_rec_bankruptcies</th>\n",
       "      <th>tax_liens</th>\n",
       "    </tr>\n",
       "  </thead>\n",
       "  <tbody>\n",
       "    <tr>\n",
       "      <th>0</th>\n",
       "      <td>1077501</td>\n",
       "      <td>1296599</td>\n",
       "      <td>5000</td>\n",
       "      <td>5000</td>\n",
       "      <td>4975.0</td>\n",
       "      <td>36 months</td>\n",
       "      <td>10.65%</td>\n",
       "      <td>162.87</td>\n",
       "      <td>B</td>\n",
       "      <td>B2</td>\n",
       "      <td>...</td>\n",
       "      <td>NaN</td>\n",
       "      <td>May-16</td>\n",
       "      <td>0.0</td>\n",
       "      <td>1</td>\n",
       "      <td>INDIVIDUAL</td>\n",
       "      <td>0</td>\n",
       "      <td>0.0</td>\n",
       "      <td>0</td>\n",
       "      <td>0.0</td>\n",
       "      <td>0.0</td>\n",
       "    </tr>\n",
       "    <tr>\n",
       "      <th>1</th>\n",
       "      <td>1077430</td>\n",
       "      <td>1314167</td>\n",
       "      <td>2500</td>\n",
       "      <td>2500</td>\n",
       "      <td>2500.0</td>\n",
       "      <td>60 months</td>\n",
       "      <td>15.27%</td>\n",
       "      <td>59.83</td>\n",
       "      <td>C</td>\n",
       "      <td>C4</td>\n",
       "      <td>...</td>\n",
       "      <td>NaN</td>\n",
       "      <td>Sep-13</td>\n",
       "      <td>0.0</td>\n",
       "      <td>1</td>\n",
       "      <td>INDIVIDUAL</td>\n",
       "      <td>0</td>\n",
       "      <td>0.0</td>\n",
       "      <td>0</td>\n",
       "      <td>0.0</td>\n",
       "      <td>0.0</td>\n",
       "    </tr>\n",
       "    <tr>\n",
       "      <th>2</th>\n",
       "      <td>1077175</td>\n",
       "      <td>1313524</td>\n",
       "      <td>2400</td>\n",
       "      <td>2400</td>\n",
       "      <td>2400.0</td>\n",
       "      <td>36 months</td>\n",
       "      <td>15.96%</td>\n",
       "      <td>84.33</td>\n",
       "      <td>C</td>\n",
       "      <td>C5</td>\n",
       "      <td>...</td>\n",
       "      <td>NaN</td>\n",
       "      <td>May-16</td>\n",
       "      <td>0.0</td>\n",
       "      <td>1</td>\n",
       "      <td>INDIVIDUAL</td>\n",
       "      <td>0</td>\n",
       "      <td>0.0</td>\n",
       "      <td>0</td>\n",
       "      <td>0.0</td>\n",
       "      <td>0.0</td>\n",
       "    </tr>\n",
       "    <tr>\n",
       "      <th>3</th>\n",
       "      <td>1076863</td>\n",
       "      <td>1277178</td>\n",
       "      <td>10000</td>\n",
       "      <td>10000</td>\n",
       "      <td>10000.0</td>\n",
       "      <td>36 months</td>\n",
       "      <td>13.49%</td>\n",
       "      <td>339.31</td>\n",
       "      <td>C</td>\n",
       "      <td>C1</td>\n",
       "      <td>...</td>\n",
       "      <td>NaN</td>\n",
       "      <td>Apr-16</td>\n",
       "      <td>0.0</td>\n",
       "      <td>1</td>\n",
       "      <td>INDIVIDUAL</td>\n",
       "      <td>0</td>\n",
       "      <td>0.0</td>\n",
       "      <td>0</td>\n",
       "      <td>0.0</td>\n",
       "      <td>0.0</td>\n",
       "    </tr>\n",
       "    <tr>\n",
       "      <th>4</th>\n",
       "      <td>1075358</td>\n",
       "      <td>1311748</td>\n",
       "      <td>3000</td>\n",
       "      <td>3000</td>\n",
       "      <td>3000.0</td>\n",
       "      <td>60 months</td>\n",
       "      <td>12.69%</td>\n",
       "      <td>67.79</td>\n",
       "      <td>B</td>\n",
       "      <td>B5</td>\n",
       "      <td>...</td>\n",
       "      <td>Jun-16</td>\n",
       "      <td>May-16</td>\n",
       "      <td>0.0</td>\n",
       "      <td>1</td>\n",
       "      <td>INDIVIDUAL</td>\n",
       "      <td>0</td>\n",
       "      <td>0.0</td>\n",
       "      <td>0</td>\n",
       "      <td>0.0</td>\n",
       "      <td>0.0</td>\n",
       "    </tr>\n",
       "  </tbody>\n",
       "</table>\n",
       "<p>5 rows × 57 columns</p>\n",
       "</div>"
      ],
      "text/plain": [
       "        id  member_id  loan_amnt  funded_amnt  funded_amnt_inv        term  \\\n",
       "0  1077501    1296599       5000         5000           4975.0   36 months   \n",
       "1  1077430    1314167       2500         2500           2500.0   60 months   \n",
       "2  1077175    1313524       2400         2400           2400.0   36 months   \n",
       "3  1076863    1277178      10000        10000          10000.0   36 months   \n",
       "4  1075358    1311748       3000         3000           3000.0   60 months   \n",
       "\n",
       "  int_rate  installment grade sub_grade  ... next_pymnt_d last_credit_pull_d  \\\n",
       "0   10.65%       162.87     B        B2  ...          NaN             May-16   \n",
       "1   15.27%        59.83     C        C4  ...          NaN             Sep-13   \n",
       "2   15.96%        84.33     C        C5  ...          NaN             May-16   \n",
       "3   13.49%       339.31     C        C1  ...          NaN             Apr-16   \n",
       "4   12.69%        67.79     B        B5  ...       Jun-16             May-16   \n",
       "\n",
       "  collections_12_mths_ex_med  policy_code application_type acc_now_delinq  \\\n",
       "0                        0.0            1       INDIVIDUAL              0   \n",
       "1                        0.0            1       INDIVIDUAL              0   \n",
       "2                        0.0            1       INDIVIDUAL              0   \n",
       "3                        0.0            1       INDIVIDUAL              0   \n",
       "4                        0.0            1       INDIVIDUAL              0   \n",
       "\n",
       "  chargeoff_within_12_mths delinq_amnt pub_rec_bankruptcies tax_liens  \n",
       "0                      0.0           0                  0.0       0.0  \n",
       "1                      0.0           0                  0.0       0.0  \n",
       "2                      0.0           0                  0.0       0.0  \n",
       "3                      0.0           0                  0.0       0.0  \n",
       "4                      0.0           0                  0.0       0.0  \n",
       "\n",
       "[5 rows x 57 columns]"
      ]
     },
     "execution_count": 184,
     "metadata": {},
     "output_type": "execute_result"
    }
   ],
   "source": [
    "#REMOVE the columns that have all the values as NaN\n",
    "\n",
    "loan_data.dropna(axis =1 ,how =\"all\", inplace =True)\n",
    "loan_data.head()"
   ]
  },
  {
   "cell_type": "code",
   "execution_count": 185,
   "id": "1c17a13d-2768-42b6-bbb8-1bafcaf98f83",
   "metadata": {},
   "outputs": [
    {
     "data": {
      "text/plain": [
       "id                                0\n",
       "member_id                         0\n",
       "loan_amnt                         0\n",
       "funded_amnt                       0\n",
       "funded_amnt_inv                   0\n",
       "term                              0\n",
       "int_rate                          0\n",
       "installment                       0\n",
       "grade                             0\n",
       "sub_grade                         0\n",
       "emp_title                      2459\n",
       "emp_length                     1075\n",
       "home_ownership                    0\n",
       "annual_inc                        0\n",
       "verification_status               0\n",
       "issue_d                           0\n",
       "loan_status                       0\n",
       "pymnt_plan                        0\n",
       "url                               0\n",
       "desc                          12942\n",
       "purpose                           0\n",
       "title                            11\n",
       "zip_code                          0\n",
       "addr_state                        0\n",
       "dti                               0\n",
       "delinq_2yrs                       0\n",
       "earliest_cr_line                  0\n",
       "inq_last_6mths                    0\n",
       "mths_since_last_delinq        25682\n",
       "mths_since_last_record        36931\n",
       "open_acc                          0\n",
       "pub_rec                           0\n",
       "revol_bal                         0\n",
       "revol_util                       50\n",
       "total_acc                         0\n",
       "initial_list_status               0\n",
       "out_prncp                         0\n",
       "out_prncp_inv                     0\n",
       "total_pymnt                       0\n",
       "total_pymnt_inv                   0\n",
       "total_rec_prncp                   0\n",
       "total_rec_int                     0\n",
       "total_rec_late_fee                0\n",
       "recoveries                        0\n",
       "collection_recovery_fee           0\n",
       "last_pymnt_d                     71\n",
       "last_pymnt_amnt                   0\n",
       "next_pymnt_d                  38577\n",
       "last_credit_pull_d                2\n",
       "collections_12_mths_ex_med       56\n",
       "policy_code                       0\n",
       "application_type                  0\n",
       "acc_now_delinq                    0\n",
       "chargeoff_within_12_mths         56\n",
       "delinq_amnt                       0\n",
       "pub_rec_bankruptcies            697\n",
       "tax_liens                        39\n",
       "dtype: int64"
      ]
     },
     "execution_count": 185,
     "metadata": {},
     "output_type": "execute_result"
    }
   ],
   "source": [
    "#Checking the null values in column now\n",
    "loan_data.isnull().sum()"
   ]
  },
  {
   "cell_type": "markdown",
   "id": "0636d042-79f1-4181-9cb8-1e96941b5f34",
   "metadata": {},
   "source": [
    "__Currently out of 57 columns some columns really dont matter during Loan approval Stage.__ \n",
    "\n",
    "__Some columns can be removed as they dont have different values indicating any pattern__  \n",
    "\n",
    "__Analyzing and removing 10 such columns in first go__  \n",
    "\n",
    "   - Remove the Id , member_id, emp_title, url,title,zip_code,addr_state columns as it is not contributing much to the data analysis for Loan approval\n",
    "   - Remove pymnt_plan as it is having single value n\n",
    "   - Remove desc as it is a string and not much contributing to the Loan approval process\n",
    "   - Remove delinq_2yrs as it is a parameter used after loan approval\n",
    "   "
   ]
  },
  {
   "cell_type": "code",
   "execution_count": 186,
   "id": "18ae7aec-4282-496c-a0cc-264aaf1d823b",
   "metadata": {},
   "outputs": [],
   "source": [
    "#Removing 10 columns identified for removal\n",
    "loan_data.drop([\"id\",\"member_id\",\"emp_title\",\"url\",\"title\",\"zip_code\",\"addr_state\",\"pymnt_plan\",\"desc\",\"delinq_2yrs\"],axis=1 , inplace =True)"
   ]
  },
  {
   "cell_type": "code",
   "execution_count": 187,
   "id": "033377d4-943c-43a7-8b3b-9b5cc32f2d09",
   "metadata": {},
   "outputs": [
    {
     "data": {
      "text/plain": [
       "(39717, 47)"
      ]
     },
     "execution_count": 187,
     "metadata": {},
     "output_type": "execute_result"
    }
   ],
   "source": [
    "#Checking the columns number after removing 10 columns\n",
    "loan_data.shape"
   ]
  },
  {
   "cell_type": "markdown",
   "id": "2e010e33-7f31-4ca5-8648-184e6af2d453",
   "metadata": {},
   "source": [
    "__Performing analysis on remaining 47 columns and checking what can be removed.__ "
   ]
  },
  {
   "cell_type": "code",
   "execution_count": 188,
   "id": "2212eab2-0aa6-4721-a598-962eb099fe26",
   "metadata": {},
   "outputs": [
    {
     "data": {
      "text/html": [
       "<div>\n",
       "<style scoped>\n",
       "    .dataframe tbody tr th:only-of-type {\n",
       "        vertical-align: middle;\n",
       "    }\n",
       "\n",
       "    .dataframe tbody tr th {\n",
       "        vertical-align: top;\n",
       "    }\n",
       "\n",
       "    .dataframe thead th {\n",
       "        text-align: right;\n",
       "    }\n",
       "</style>\n",
       "<table border=\"1\" class=\"dataframe\">\n",
       "  <thead>\n",
       "    <tr style=\"text-align: right;\">\n",
       "      <th></th>\n",
       "      <th>loan_amnt</th>\n",
       "      <th>funded_amnt</th>\n",
       "      <th>funded_amnt_inv</th>\n",
       "      <th>term</th>\n",
       "      <th>int_rate</th>\n",
       "      <th>installment</th>\n",
       "      <th>grade</th>\n",
       "      <th>sub_grade</th>\n",
       "      <th>emp_length</th>\n",
       "      <th>home_ownership</th>\n",
       "      <th>...</th>\n",
       "      <th>next_pymnt_d</th>\n",
       "      <th>last_credit_pull_d</th>\n",
       "      <th>collections_12_mths_ex_med</th>\n",
       "      <th>policy_code</th>\n",
       "      <th>application_type</th>\n",
       "      <th>acc_now_delinq</th>\n",
       "      <th>chargeoff_within_12_mths</th>\n",
       "      <th>delinq_amnt</th>\n",
       "      <th>pub_rec_bankruptcies</th>\n",
       "      <th>tax_liens</th>\n",
       "    </tr>\n",
       "  </thead>\n",
       "  <tbody>\n",
       "    <tr>\n",
       "      <th>0</th>\n",
       "      <td>5000</td>\n",
       "      <td>5000</td>\n",
       "      <td>4975.0</td>\n",
       "      <td>36 months</td>\n",
       "      <td>10.65%</td>\n",
       "      <td>162.87</td>\n",
       "      <td>B</td>\n",
       "      <td>B2</td>\n",
       "      <td>10+ years</td>\n",
       "      <td>RENT</td>\n",
       "      <td>...</td>\n",
       "      <td>NaN</td>\n",
       "      <td>May-16</td>\n",
       "      <td>0.0</td>\n",
       "      <td>1</td>\n",
       "      <td>INDIVIDUAL</td>\n",
       "      <td>0</td>\n",
       "      <td>0.0</td>\n",
       "      <td>0</td>\n",
       "      <td>0.0</td>\n",
       "      <td>0.0</td>\n",
       "    </tr>\n",
       "    <tr>\n",
       "      <th>1</th>\n",
       "      <td>2500</td>\n",
       "      <td>2500</td>\n",
       "      <td>2500.0</td>\n",
       "      <td>60 months</td>\n",
       "      <td>15.27%</td>\n",
       "      <td>59.83</td>\n",
       "      <td>C</td>\n",
       "      <td>C4</td>\n",
       "      <td>&lt; 1 year</td>\n",
       "      <td>RENT</td>\n",
       "      <td>...</td>\n",
       "      <td>NaN</td>\n",
       "      <td>Sep-13</td>\n",
       "      <td>0.0</td>\n",
       "      <td>1</td>\n",
       "      <td>INDIVIDUAL</td>\n",
       "      <td>0</td>\n",
       "      <td>0.0</td>\n",
       "      <td>0</td>\n",
       "      <td>0.0</td>\n",
       "      <td>0.0</td>\n",
       "    </tr>\n",
       "    <tr>\n",
       "      <th>2</th>\n",
       "      <td>2400</td>\n",
       "      <td>2400</td>\n",
       "      <td>2400.0</td>\n",
       "      <td>36 months</td>\n",
       "      <td>15.96%</td>\n",
       "      <td>84.33</td>\n",
       "      <td>C</td>\n",
       "      <td>C5</td>\n",
       "      <td>10+ years</td>\n",
       "      <td>RENT</td>\n",
       "      <td>...</td>\n",
       "      <td>NaN</td>\n",
       "      <td>May-16</td>\n",
       "      <td>0.0</td>\n",
       "      <td>1</td>\n",
       "      <td>INDIVIDUAL</td>\n",
       "      <td>0</td>\n",
       "      <td>0.0</td>\n",
       "      <td>0</td>\n",
       "      <td>0.0</td>\n",
       "      <td>0.0</td>\n",
       "    </tr>\n",
       "    <tr>\n",
       "      <th>3</th>\n",
       "      <td>10000</td>\n",
       "      <td>10000</td>\n",
       "      <td>10000.0</td>\n",
       "      <td>36 months</td>\n",
       "      <td>13.49%</td>\n",
       "      <td>339.31</td>\n",
       "      <td>C</td>\n",
       "      <td>C1</td>\n",
       "      <td>10+ years</td>\n",
       "      <td>RENT</td>\n",
       "      <td>...</td>\n",
       "      <td>NaN</td>\n",
       "      <td>Apr-16</td>\n",
       "      <td>0.0</td>\n",
       "      <td>1</td>\n",
       "      <td>INDIVIDUAL</td>\n",
       "      <td>0</td>\n",
       "      <td>0.0</td>\n",
       "      <td>0</td>\n",
       "      <td>0.0</td>\n",
       "      <td>0.0</td>\n",
       "    </tr>\n",
       "    <tr>\n",
       "      <th>4</th>\n",
       "      <td>3000</td>\n",
       "      <td>3000</td>\n",
       "      <td>3000.0</td>\n",
       "      <td>60 months</td>\n",
       "      <td>12.69%</td>\n",
       "      <td>67.79</td>\n",
       "      <td>B</td>\n",
       "      <td>B5</td>\n",
       "      <td>1 year</td>\n",
       "      <td>RENT</td>\n",
       "      <td>...</td>\n",
       "      <td>Jun-16</td>\n",
       "      <td>May-16</td>\n",
       "      <td>0.0</td>\n",
       "      <td>1</td>\n",
       "      <td>INDIVIDUAL</td>\n",
       "      <td>0</td>\n",
       "      <td>0.0</td>\n",
       "      <td>0</td>\n",
       "      <td>0.0</td>\n",
       "      <td>0.0</td>\n",
       "    </tr>\n",
       "  </tbody>\n",
       "</table>\n",
       "<p>5 rows × 47 columns</p>\n",
       "</div>"
      ],
      "text/plain": [
       "   loan_amnt  funded_amnt  funded_amnt_inv        term int_rate  installment  \\\n",
       "0       5000         5000           4975.0   36 months   10.65%       162.87   \n",
       "1       2500         2500           2500.0   60 months   15.27%        59.83   \n",
       "2       2400         2400           2400.0   36 months   15.96%        84.33   \n",
       "3      10000        10000          10000.0   36 months   13.49%       339.31   \n",
       "4       3000         3000           3000.0   60 months   12.69%        67.79   \n",
       "\n",
       "  grade sub_grade emp_length home_ownership  ...  next_pymnt_d  \\\n",
       "0     B        B2  10+ years           RENT  ...           NaN   \n",
       "1     C        C4   < 1 year           RENT  ...           NaN   \n",
       "2     C        C5  10+ years           RENT  ...           NaN   \n",
       "3     C        C1  10+ years           RENT  ...           NaN   \n",
       "4     B        B5     1 year           RENT  ...        Jun-16   \n",
       "\n",
       "  last_credit_pull_d collections_12_mths_ex_med policy_code application_type  \\\n",
       "0             May-16                        0.0           1       INDIVIDUAL   \n",
       "1             Sep-13                        0.0           1       INDIVIDUAL   \n",
       "2             May-16                        0.0           1       INDIVIDUAL   \n",
       "3             Apr-16                        0.0           1       INDIVIDUAL   \n",
       "4             May-16                        0.0           1       INDIVIDUAL   \n",
       "\n",
       "   acc_now_delinq chargeoff_within_12_mths  delinq_amnt  pub_rec_bankruptcies  \\\n",
       "0               0                      0.0            0                   0.0   \n",
       "1               0                      0.0            0                   0.0   \n",
       "2               0                      0.0            0                   0.0   \n",
       "3               0                      0.0            0                   0.0   \n",
       "4               0                      0.0            0                   0.0   \n",
       "\n",
       "   tax_liens  \n",
       "0        0.0  \n",
       "1        0.0  \n",
       "2        0.0  \n",
       "3        0.0  \n",
       "4        0.0  \n",
       "\n",
       "[5 rows x 47 columns]"
      ]
     },
     "execution_count": 188,
     "metadata": {},
     "output_type": "execute_result"
    }
   ],
   "source": [
    "loan_data.head()"
   ]
  },
  {
   "cell_type": "markdown",
   "id": "ece17fcb-95bc-4a44-ae6a-e1b33230aae9",
   "metadata": {},
   "source": [
    "__Analyzing and removing next set of 10 columns__  \n",
    "\n",
    "   - Removing last_credit_pull_d as it is not providing any data related to loan approval\n",
    "   - Removing collections_12_mths_ex_med,policy_code, appplication_type,acc_now_delinq,chargeoff_within_12_mths ,delinq_amnt,pub_rec_bankruptcies,tax_liens\n",
    "     as it is a single valued column and is not providing much value to Loan application approval/rejection\n",
    "   - Removing initial_list_status as it is single valued and not providing much insights\n"
   ]
  },
  {
   "cell_type": "code",
   "execution_count": 189,
   "id": "a0570e97-678a-44e8-aca6-b5aa36e42c57",
   "metadata": {},
   "outputs": [
    {
     "data": {
      "text/plain": [
       "Index(['loan_amnt', 'funded_amnt', 'funded_amnt_inv', 'term', 'int_rate',\n",
       "       'installment', 'grade', 'sub_grade', 'emp_length', 'home_ownership',\n",
       "       'annual_inc', 'verification_status', 'issue_d', 'loan_status',\n",
       "       'purpose', 'dti', 'earliest_cr_line', 'inq_last_6mths',\n",
       "       'mths_since_last_delinq', 'mths_since_last_record', 'open_acc',\n",
       "       'pub_rec', 'revol_bal', 'revol_util', 'total_acc',\n",
       "       'initial_list_status', 'out_prncp', 'out_prncp_inv', 'total_pymnt',\n",
       "       'total_pymnt_inv', 'total_rec_prncp', 'total_rec_int',\n",
       "       'total_rec_late_fee', 'recoveries', 'collection_recovery_fee',\n",
       "       'last_pymnt_d', 'last_pymnt_amnt', 'next_pymnt_d', 'last_credit_pull_d',\n",
       "       'collections_12_mths_ex_med', 'policy_code', 'application_type',\n",
       "       'acc_now_delinq', 'chargeoff_within_12_mths', 'delinq_amnt',\n",
       "       'pub_rec_bankruptcies', 'tax_liens'],\n",
       "      dtype='object')"
      ]
     },
     "execution_count": 189,
     "metadata": {},
     "output_type": "execute_result"
    }
   ],
   "source": [
    "#printing the columns names \n",
    "loan_data.columns"
   ]
  },
  {
   "cell_type": "code",
   "execution_count": 190,
   "id": "cb056a70-c151-439a-a04f-2476839596da",
   "metadata": {},
   "outputs": [],
   "source": [
    "#Removing next set 10 columns which dont significantly impact the loan approval/rejection\n",
    "loan_data.drop([\"last_credit_pull_d\",\"collections_12_mths_ex_med\",\"policy_code\",\"application_type\",\"acc_now_delinq\",\"chargeoff_within_12_mths\",\"delinq_amnt\",\"pub_rec_bankruptcies\",\"tax_liens\",\"initial_list_status\"],axis=1 , inplace =True)"
   ]
  },
  {
   "cell_type": "code",
   "execution_count": 191,
   "id": "5b5a4056-ae31-42af-be9e-3edf1d4b7eb0",
   "metadata": {},
   "outputs": [
    {
     "data": {
      "text/plain": [
       "(39717, 37)"
      ]
     },
     "execution_count": 191,
     "metadata": {},
     "output_type": "execute_result"
    }
   ],
   "source": [
    "#chekcing the number of columns after removing second set of 10 columns\n",
    "loan_data.shape"
   ]
  },
  {
   "cell_type": "code",
   "execution_count": 192,
   "id": "8983df65-d0cd-464c-b177-4cd0ab38a1eb",
   "metadata": {},
   "outputs": [
    {
     "data": {
      "text/html": [
       "<div>\n",
       "<style scoped>\n",
       "    .dataframe tbody tr th:only-of-type {\n",
       "        vertical-align: middle;\n",
       "    }\n",
       "\n",
       "    .dataframe tbody tr th {\n",
       "        vertical-align: top;\n",
       "    }\n",
       "\n",
       "    .dataframe thead th {\n",
       "        text-align: right;\n",
       "    }\n",
       "</style>\n",
       "<table border=\"1\" class=\"dataframe\">\n",
       "  <thead>\n",
       "    <tr style=\"text-align: right;\">\n",
       "      <th></th>\n",
       "      <th>loan_amnt</th>\n",
       "      <th>funded_amnt</th>\n",
       "      <th>funded_amnt_inv</th>\n",
       "      <th>term</th>\n",
       "      <th>int_rate</th>\n",
       "      <th>installment</th>\n",
       "      <th>grade</th>\n",
       "      <th>sub_grade</th>\n",
       "      <th>emp_length</th>\n",
       "      <th>home_ownership</th>\n",
       "      <th>...</th>\n",
       "      <th>total_pymnt</th>\n",
       "      <th>total_pymnt_inv</th>\n",
       "      <th>total_rec_prncp</th>\n",
       "      <th>total_rec_int</th>\n",
       "      <th>total_rec_late_fee</th>\n",
       "      <th>recoveries</th>\n",
       "      <th>collection_recovery_fee</th>\n",
       "      <th>last_pymnt_d</th>\n",
       "      <th>last_pymnt_amnt</th>\n",
       "      <th>next_pymnt_d</th>\n",
       "    </tr>\n",
       "  </thead>\n",
       "  <tbody>\n",
       "    <tr>\n",
       "      <th>0</th>\n",
       "      <td>5000</td>\n",
       "      <td>5000</td>\n",
       "      <td>4975.0</td>\n",
       "      <td>36 months</td>\n",
       "      <td>10.65%</td>\n",
       "      <td>162.87</td>\n",
       "      <td>B</td>\n",
       "      <td>B2</td>\n",
       "      <td>10+ years</td>\n",
       "      <td>RENT</td>\n",
       "      <td>...</td>\n",
       "      <td>5863.155187</td>\n",
       "      <td>5833.84</td>\n",
       "      <td>5000.00</td>\n",
       "      <td>863.16</td>\n",
       "      <td>0.00</td>\n",
       "      <td>0.00</td>\n",
       "      <td>0.00</td>\n",
       "      <td>Jan-15</td>\n",
       "      <td>171.62</td>\n",
       "      <td>NaN</td>\n",
       "    </tr>\n",
       "    <tr>\n",
       "      <th>1</th>\n",
       "      <td>2500</td>\n",
       "      <td>2500</td>\n",
       "      <td>2500.0</td>\n",
       "      <td>60 months</td>\n",
       "      <td>15.27%</td>\n",
       "      <td>59.83</td>\n",
       "      <td>C</td>\n",
       "      <td>C4</td>\n",
       "      <td>&lt; 1 year</td>\n",
       "      <td>RENT</td>\n",
       "      <td>...</td>\n",
       "      <td>1008.710000</td>\n",
       "      <td>1008.71</td>\n",
       "      <td>456.46</td>\n",
       "      <td>435.17</td>\n",
       "      <td>0.00</td>\n",
       "      <td>117.08</td>\n",
       "      <td>1.11</td>\n",
       "      <td>Apr-13</td>\n",
       "      <td>119.66</td>\n",
       "      <td>NaN</td>\n",
       "    </tr>\n",
       "    <tr>\n",
       "      <th>2</th>\n",
       "      <td>2400</td>\n",
       "      <td>2400</td>\n",
       "      <td>2400.0</td>\n",
       "      <td>36 months</td>\n",
       "      <td>15.96%</td>\n",
       "      <td>84.33</td>\n",
       "      <td>C</td>\n",
       "      <td>C5</td>\n",
       "      <td>10+ years</td>\n",
       "      <td>RENT</td>\n",
       "      <td>...</td>\n",
       "      <td>3005.666844</td>\n",
       "      <td>3005.67</td>\n",
       "      <td>2400.00</td>\n",
       "      <td>605.67</td>\n",
       "      <td>0.00</td>\n",
       "      <td>0.00</td>\n",
       "      <td>0.00</td>\n",
       "      <td>Jun-14</td>\n",
       "      <td>649.91</td>\n",
       "      <td>NaN</td>\n",
       "    </tr>\n",
       "    <tr>\n",
       "      <th>3</th>\n",
       "      <td>10000</td>\n",
       "      <td>10000</td>\n",
       "      <td>10000.0</td>\n",
       "      <td>36 months</td>\n",
       "      <td>13.49%</td>\n",
       "      <td>339.31</td>\n",
       "      <td>C</td>\n",
       "      <td>C1</td>\n",
       "      <td>10+ years</td>\n",
       "      <td>RENT</td>\n",
       "      <td>...</td>\n",
       "      <td>12231.890000</td>\n",
       "      <td>12231.89</td>\n",
       "      <td>10000.00</td>\n",
       "      <td>2214.92</td>\n",
       "      <td>16.97</td>\n",
       "      <td>0.00</td>\n",
       "      <td>0.00</td>\n",
       "      <td>Jan-15</td>\n",
       "      <td>357.48</td>\n",
       "      <td>NaN</td>\n",
       "    </tr>\n",
       "    <tr>\n",
       "      <th>4</th>\n",
       "      <td>3000</td>\n",
       "      <td>3000</td>\n",
       "      <td>3000.0</td>\n",
       "      <td>60 months</td>\n",
       "      <td>12.69%</td>\n",
       "      <td>67.79</td>\n",
       "      <td>B</td>\n",
       "      <td>B5</td>\n",
       "      <td>1 year</td>\n",
       "      <td>RENT</td>\n",
       "      <td>...</td>\n",
       "      <td>3513.330000</td>\n",
       "      <td>3513.33</td>\n",
       "      <td>2475.94</td>\n",
       "      <td>1037.39</td>\n",
       "      <td>0.00</td>\n",
       "      <td>0.00</td>\n",
       "      <td>0.00</td>\n",
       "      <td>May-16</td>\n",
       "      <td>67.79</td>\n",
       "      <td>Jun-16</td>\n",
       "    </tr>\n",
       "  </tbody>\n",
       "</table>\n",
       "<p>5 rows × 37 columns</p>\n",
       "</div>"
      ],
      "text/plain": [
       "   loan_amnt  funded_amnt  funded_amnt_inv        term int_rate  installment  \\\n",
       "0       5000         5000           4975.0   36 months   10.65%       162.87   \n",
       "1       2500         2500           2500.0   60 months   15.27%        59.83   \n",
       "2       2400         2400           2400.0   36 months   15.96%        84.33   \n",
       "3      10000        10000          10000.0   36 months   13.49%       339.31   \n",
       "4       3000         3000           3000.0   60 months   12.69%        67.79   \n",
       "\n",
       "  grade sub_grade emp_length home_ownership  ...   total_pymnt  \\\n",
       "0     B        B2  10+ years           RENT  ...   5863.155187   \n",
       "1     C        C4   < 1 year           RENT  ...   1008.710000   \n",
       "2     C        C5  10+ years           RENT  ...   3005.666844   \n",
       "3     C        C1  10+ years           RENT  ...  12231.890000   \n",
       "4     B        B5     1 year           RENT  ...   3513.330000   \n",
       "\n",
       "  total_pymnt_inv total_rec_prncp total_rec_int total_rec_late_fee  \\\n",
       "0         5833.84         5000.00        863.16               0.00   \n",
       "1         1008.71          456.46        435.17               0.00   \n",
       "2         3005.67         2400.00        605.67               0.00   \n",
       "3        12231.89        10000.00       2214.92              16.97   \n",
       "4         3513.33         2475.94       1037.39               0.00   \n",
       "\n",
       "   recoveries collection_recovery_fee  last_pymnt_d  last_pymnt_amnt  \\\n",
       "0        0.00                    0.00        Jan-15           171.62   \n",
       "1      117.08                    1.11        Apr-13           119.66   \n",
       "2        0.00                    0.00        Jun-14           649.91   \n",
       "3        0.00                    0.00        Jan-15           357.48   \n",
       "4        0.00                    0.00        May-16            67.79   \n",
       "\n",
       "   next_pymnt_d  \n",
       "0           NaN  \n",
       "1           NaN  \n",
       "2           NaN  \n",
       "3           NaN  \n",
       "4        Jun-16  \n",
       "\n",
       "[5 rows x 37 columns]"
      ]
     },
     "execution_count": 192,
     "metadata": {},
     "output_type": "execute_result"
    }
   ],
   "source": [
    "#Printing the current head data for 37 columns data\n",
    "loan_data.head()"
   ]
  },
  {
   "cell_type": "code",
   "execution_count": 193,
   "id": "28509c82-6eb3-4609-95a2-78b938b3faae",
   "metadata": {},
   "outputs": [
    {
     "data": {
      "text/plain": [
       "Index(['loan_amnt', 'funded_amnt', 'funded_amnt_inv', 'term', 'int_rate',\n",
       "       'installment', 'grade', 'sub_grade', 'emp_length', 'home_ownership',\n",
       "       'annual_inc', 'verification_status', 'issue_d', 'loan_status',\n",
       "       'purpose', 'dti', 'earliest_cr_line', 'inq_last_6mths',\n",
       "       'mths_since_last_delinq', 'mths_since_last_record', 'open_acc',\n",
       "       'pub_rec', 'revol_bal', 'revol_util', 'total_acc', 'out_prncp',\n",
       "       'out_prncp_inv', 'total_pymnt', 'total_pymnt_inv', 'total_rec_prncp',\n",
       "       'total_rec_int', 'total_rec_late_fee', 'recoveries',\n",
       "       'collection_recovery_fee', 'last_pymnt_d', 'last_pymnt_amnt',\n",
       "       'next_pymnt_d'],\n",
       "      dtype='object')"
      ]
     },
     "execution_count": 193,
     "metadata": {},
     "output_type": "execute_result"
    }
   ],
   "source": [
    "#Chekcing the remaining 37 columns names\n",
    "loan_data.columns"
   ]
  },
  {
   "cell_type": "markdown",
   "id": "28ed321a-9a70-450a-a948-393331e70f1f",
   "metadata": {},
   "source": [
    "__Analyzing and removing columns that is not significantly impacting the Loan approval/rejection criteria__  \n",
    "__These parameters are used after a Loan is approved. Hence removing it__ \n",
    "\n",
    " - revol_bal\r\n",
    " - out_prncp\r\n",
    " - total_pymnt\r\n",
    " - total_rec_prncp\r\n",
    " - total_rec_int\r\n",
    " - total_rec_late_fee\r\n",
    " - recoveries\r\n",
    " - collection_recovery_fee\r\n",
    " - last_pymnt_d\r\n",
    " - last_pymnt_amnt\r\n",
    " - ne_last_record\n"
   ]
  },
  {
   "cell_type": "code",
   "execution_count": 194,
   "id": "6ada91b5-beb0-42a1-800a-72ca063476d8",
   "metadata": {},
   "outputs": [],
   "source": [
    "#Removing columns above which are mainly the parameters coming after the Loan Approval\n",
    "loan_data.drop([\"revol_bal\",\"out_prncp\",\"total_pymnt\",\"total_rec_prncp\",\"total_rec_int\",\"total_rec_late_fee\",\"recoveries\",\"collection_recovery_fee\",\"last_pymnt_d\",\"last_pymnt_amnt\",\"next_pymnt_d\"],axis=1 , inplace =True)"
   ]
  },
  {
   "cell_type": "code",
   "execution_count": 195,
   "id": "dbe4be05-ba19-45f8-963d-9cfd6dcc90ec",
   "metadata": {},
   "outputs": [
    {
     "data": {
      "text/plain": [
       "(39717, 26)"
      ]
     },
     "execution_count": 195,
     "metadata": {},
     "output_type": "execute_result"
    }
   ],
   "source": [
    "#printing the remaining column size\n",
    "loan_data.shape"
   ]
  },
  {
   "cell_type": "code",
   "execution_count": 196,
   "id": "a61704f3-6472-481b-b176-d4dfc9942fa5",
   "metadata": {},
   "outputs": [
    {
     "data": {
      "text/html": [
       "<div>\n",
       "<style scoped>\n",
       "    .dataframe tbody tr th:only-of-type {\n",
       "        vertical-align: middle;\n",
       "    }\n",
       "\n",
       "    .dataframe tbody tr th {\n",
       "        vertical-align: top;\n",
       "    }\n",
       "\n",
       "    .dataframe thead th {\n",
       "        text-align: right;\n",
       "    }\n",
       "</style>\n",
       "<table border=\"1\" class=\"dataframe\">\n",
       "  <thead>\n",
       "    <tr style=\"text-align: right;\">\n",
       "      <th></th>\n",
       "      <th>loan_amnt</th>\n",
       "      <th>funded_amnt</th>\n",
       "      <th>funded_amnt_inv</th>\n",
       "      <th>term</th>\n",
       "      <th>int_rate</th>\n",
       "      <th>installment</th>\n",
       "      <th>grade</th>\n",
       "      <th>sub_grade</th>\n",
       "      <th>emp_length</th>\n",
       "      <th>home_ownership</th>\n",
       "      <th>...</th>\n",
       "      <th>earliest_cr_line</th>\n",
       "      <th>inq_last_6mths</th>\n",
       "      <th>mths_since_last_delinq</th>\n",
       "      <th>mths_since_last_record</th>\n",
       "      <th>open_acc</th>\n",
       "      <th>pub_rec</th>\n",
       "      <th>revol_util</th>\n",
       "      <th>total_acc</th>\n",
       "      <th>out_prncp_inv</th>\n",
       "      <th>total_pymnt_inv</th>\n",
       "    </tr>\n",
       "  </thead>\n",
       "  <tbody>\n",
       "    <tr>\n",
       "      <th>0</th>\n",
       "      <td>5000</td>\n",
       "      <td>5000</td>\n",
       "      <td>4975.0</td>\n",
       "      <td>36 months</td>\n",
       "      <td>10.65%</td>\n",
       "      <td>162.87</td>\n",
       "      <td>B</td>\n",
       "      <td>B2</td>\n",
       "      <td>10+ years</td>\n",
       "      <td>RENT</td>\n",
       "      <td>...</td>\n",
       "      <td>Jan-85</td>\n",
       "      <td>1</td>\n",
       "      <td>NaN</td>\n",
       "      <td>NaN</td>\n",
       "      <td>3</td>\n",
       "      <td>0</td>\n",
       "      <td>83.70%</td>\n",
       "      <td>9</td>\n",
       "      <td>0.00</td>\n",
       "      <td>5833.84</td>\n",
       "    </tr>\n",
       "    <tr>\n",
       "      <th>1</th>\n",
       "      <td>2500</td>\n",
       "      <td>2500</td>\n",
       "      <td>2500.0</td>\n",
       "      <td>60 months</td>\n",
       "      <td>15.27%</td>\n",
       "      <td>59.83</td>\n",
       "      <td>C</td>\n",
       "      <td>C4</td>\n",
       "      <td>&lt; 1 year</td>\n",
       "      <td>RENT</td>\n",
       "      <td>...</td>\n",
       "      <td>Apr-99</td>\n",
       "      <td>5</td>\n",
       "      <td>NaN</td>\n",
       "      <td>NaN</td>\n",
       "      <td>3</td>\n",
       "      <td>0</td>\n",
       "      <td>9.40%</td>\n",
       "      <td>4</td>\n",
       "      <td>0.00</td>\n",
       "      <td>1008.71</td>\n",
       "    </tr>\n",
       "    <tr>\n",
       "      <th>2</th>\n",
       "      <td>2400</td>\n",
       "      <td>2400</td>\n",
       "      <td>2400.0</td>\n",
       "      <td>36 months</td>\n",
       "      <td>15.96%</td>\n",
       "      <td>84.33</td>\n",
       "      <td>C</td>\n",
       "      <td>C5</td>\n",
       "      <td>10+ years</td>\n",
       "      <td>RENT</td>\n",
       "      <td>...</td>\n",
       "      <td>Nov-01</td>\n",
       "      <td>2</td>\n",
       "      <td>NaN</td>\n",
       "      <td>NaN</td>\n",
       "      <td>2</td>\n",
       "      <td>0</td>\n",
       "      <td>98.50%</td>\n",
       "      <td>10</td>\n",
       "      <td>0.00</td>\n",
       "      <td>3005.67</td>\n",
       "    </tr>\n",
       "    <tr>\n",
       "      <th>3</th>\n",
       "      <td>10000</td>\n",
       "      <td>10000</td>\n",
       "      <td>10000.0</td>\n",
       "      <td>36 months</td>\n",
       "      <td>13.49%</td>\n",
       "      <td>339.31</td>\n",
       "      <td>C</td>\n",
       "      <td>C1</td>\n",
       "      <td>10+ years</td>\n",
       "      <td>RENT</td>\n",
       "      <td>...</td>\n",
       "      <td>Feb-96</td>\n",
       "      <td>1</td>\n",
       "      <td>35.0</td>\n",
       "      <td>NaN</td>\n",
       "      <td>10</td>\n",
       "      <td>0</td>\n",
       "      <td>21%</td>\n",
       "      <td>37</td>\n",
       "      <td>0.00</td>\n",
       "      <td>12231.89</td>\n",
       "    </tr>\n",
       "    <tr>\n",
       "      <th>4</th>\n",
       "      <td>3000</td>\n",
       "      <td>3000</td>\n",
       "      <td>3000.0</td>\n",
       "      <td>60 months</td>\n",
       "      <td>12.69%</td>\n",
       "      <td>67.79</td>\n",
       "      <td>B</td>\n",
       "      <td>B5</td>\n",
       "      <td>1 year</td>\n",
       "      <td>RENT</td>\n",
       "      <td>...</td>\n",
       "      <td>Jan-96</td>\n",
       "      <td>0</td>\n",
       "      <td>38.0</td>\n",
       "      <td>NaN</td>\n",
       "      <td>15</td>\n",
       "      <td>0</td>\n",
       "      <td>53.90%</td>\n",
       "      <td>38</td>\n",
       "      <td>524.06</td>\n",
       "      <td>3513.33</td>\n",
       "    </tr>\n",
       "  </tbody>\n",
       "</table>\n",
       "<p>5 rows × 26 columns</p>\n",
       "</div>"
      ],
      "text/plain": [
       "   loan_amnt  funded_amnt  funded_amnt_inv        term int_rate  installment  \\\n",
       "0       5000         5000           4975.0   36 months   10.65%       162.87   \n",
       "1       2500         2500           2500.0   60 months   15.27%        59.83   \n",
       "2       2400         2400           2400.0   36 months   15.96%        84.33   \n",
       "3      10000        10000          10000.0   36 months   13.49%       339.31   \n",
       "4       3000         3000           3000.0   60 months   12.69%        67.79   \n",
       "\n",
       "  grade sub_grade emp_length home_ownership  ...  earliest_cr_line  \\\n",
       "0     B        B2  10+ years           RENT  ...            Jan-85   \n",
       "1     C        C4   < 1 year           RENT  ...            Apr-99   \n",
       "2     C        C5  10+ years           RENT  ...            Nov-01   \n",
       "3     C        C1  10+ years           RENT  ...            Feb-96   \n",
       "4     B        B5     1 year           RENT  ...            Jan-96   \n",
       "\n",
       "  inq_last_6mths mths_since_last_delinq mths_since_last_record open_acc  \\\n",
       "0              1                    NaN                    NaN        3   \n",
       "1              5                    NaN                    NaN        3   \n",
       "2              2                    NaN                    NaN        2   \n",
       "3              1                   35.0                    NaN       10   \n",
       "4              0                   38.0                    NaN       15   \n",
       "\n",
       "   pub_rec revol_util  total_acc  out_prncp_inv  total_pymnt_inv  \n",
       "0        0     83.70%          9           0.00          5833.84  \n",
       "1        0      9.40%          4           0.00          1008.71  \n",
       "2        0     98.50%         10           0.00          3005.67  \n",
       "3        0        21%         37           0.00         12231.89  \n",
       "4        0     53.90%         38         524.06          3513.33  \n",
       "\n",
       "[5 rows x 26 columns]"
      ]
     },
     "execution_count": 196,
     "metadata": {},
     "output_type": "execute_result"
    }
   ],
   "source": [
    "#printing the data head\n",
    "loan_data.head()"
   ]
  },
  {
   "cell_type": "code",
   "execution_count": 197,
   "id": "6a184cfe-cd82-4412-8fa6-6a55e923b5d5",
   "metadata": {},
   "outputs": [
    {
     "data": {
      "text/plain": [
       "Index(['loan_amnt', 'funded_amnt', 'funded_amnt_inv', 'term', 'int_rate',\n",
       "       'installment', 'grade', 'sub_grade', 'emp_length', 'home_ownership',\n",
       "       'annual_inc', 'verification_status', 'issue_d', 'loan_status',\n",
       "       'purpose', 'dti', 'earliest_cr_line', 'inq_last_6mths',\n",
       "       'mths_since_last_delinq', 'mths_since_last_record', 'open_acc',\n",
       "       'pub_rec', 'revol_util', 'total_acc', 'out_prncp_inv',\n",
       "       'total_pymnt_inv'],\n",
       "      dtype='object')"
      ]
     },
     "execution_count": 197,
     "metadata": {},
     "output_type": "execute_result"
    }
   ],
   "source": [
    "#printing the remaining 26 columns names\n",
    "loan_data.columns"
   ]
  },
  {
   "cell_type": "code",
   "execution_count": 198,
   "id": "abb696b5-dbf2-4394-bf07-1cffff0b778b",
   "metadata": {},
   "outputs": [
    {
     "data": {
      "text/plain": [
       "25682"
      ]
     },
     "execution_count": 198,
     "metadata": {},
     "output_type": "execute_result"
    }
   ],
   "source": [
    "#finding number of NaN values in mths_since_last_delinq\tcolumn\n",
    "loan_data[\"mths_since_last_delinq\"].isnull().sum()"
   ]
  },
  {
   "cell_type": "code",
   "execution_count": 199,
   "id": "8dda9c76-38fd-490f-98e2-9bcb7c7f3d8f",
   "metadata": {},
   "outputs": [
    {
     "data": {
      "text/plain": [
       "36931"
      ]
     },
     "execution_count": 199,
     "metadata": {},
     "output_type": "execute_result"
    }
   ],
   "source": [
    "#finding number of NaN values in mths_since_last_record column\n",
    "loan_data[\"mths_since_last_record\"].isnull().sum()"
   ]
  },
  {
   "cell_type": "markdown",
   "id": "434e10db-5708-49da-a570-20786d83f52b",
   "metadata": {},
   "source": [
    "__Since the NaN values are verhy high in both mths_since_last_delinq and mths_since_last_record removing both records from analysis__ "
   ]
  },
  {
   "cell_type": "code",
   "execution_count": 200,
   "id": "65141041-3c57-4d2c-8c88-c112221dffe5",
   "metadata": {},
   "outputs": [],
   "source": [
    "# Dropping mths_since_last_delinq and maths_since_last_record \n",
    "\n",
    "loan_data.drop([\"mths_since_last_delinq\",\"mths_since_last_record\"],axis=1 , inplace =True)"
   ]
  },
  {
   "cell_type": "code",
   "execution_count": 201,
   "id": "dfc928d2-09d9-4042-a2de-c0cbf2749a73",
   "metadata": {},
   "outputs": [
    {
     "data": {
      "text/plain": [
       "(39717, 24)"
      ]
     },
     "execution_count": 201,
     "metadata": {},
     "output_type": "execute_result"
    }
   ],
   "source": [
    "#printing the current shape\n",
    "loan_data.shape"
   ]
  },
  {
   "cell_type": "code",
   "execution_count": 202,
   "id": "18b0ffdb-ea73-47a0-a71a-844e271df0a4",
   "metadata": {},
   "outputs": [],
   "source": [
    "#Removing out_prncp_inv and total_pymnt_inv as it not adding much significance to the Loan Rental process\n",
    "loan_data.drop([\"total_pymnt_inv\",\"out_prncp_inv\"],axis=1 , inplace =True)"
   ]
  },
  {
   "cell_type": "code",
   "execution_count": 203,
   "id": "763eb082-0aaa-4d19-b190-e0335c7c2bec",
   "metadata": {},
   "outputs": [
    {
     "data": {
      "text/plain": [
       "(39717, 22)"
      ]
     },
     "execution_count": 203,
     "metadata": {},
     "output_type": "execute_result"
    }
   ],
   "source": [
    "#printing the current shape\n",
    "loan_data.shape"
   ]
  },
  {
   "cell_type": "markdown",
   "id": "d3d85745-fb26-4274-b6c1-e55c11de135c",
   "metadata": {},
   "source": [
    "__FILLING THE MISSING VALUES__ "
   ]
  },
  {
   "cell_type": "code",
   "execution_count": 204,
   "id": "e329c31b-b3f4-4a37-a8d6-e778d04bcb1a",
   "metadata": {},
   "outputs": [
    {
     "data": {
      "text/plain": [
       "loan_amnt                 0\n",
       "funded_amnt               0\n",
       "funded_amnt_inv           0\n",
       "term                      0\n",
       "int_rate                  0\n",
       "installment               0\n",
       "grade                     0\n",
       "sub_grade                 0\n",
       "emp_length             1075\n",
       "home_ownership            0\n",
       "annual_inc                0\n",
       "verification_status       0\n",
       "issue_d                   0\n",
       "loan_status               0\n",
       "purpose                   0\n",
       "dti                       0\n",
       "earliest_cr_line          0\n",
       "inq_last_6mths            0\n",
       "open_acc                  0\n",
       "pub_rec                   0\n",
       "revol_util               50\n",
       "total_acc                 0\n",
       "dtype: int64"
      ]
     },
     "execution_count": 204,
     "metadata": {},
     "output_type": "execute_result"
    }
   ],
   "source": [
    "#Checking for Null values in remaining 22 columns\n",
    "loan_data.isnull().sum()"
   ]
  },
  {
   "cell_type": "code",
   "execution_count": 205,
   "id": "1fd273f8-ff99-4a9c-9b70-625ad8c28f5b",
   "metadata": {},
   "outputs": [
    {
     "data": {
      "text/plain": [
       "loan_amnt              0.000000\n",
       "funded_amnt            0.000000\n",
       "funded_amnt_inv        0.000000\n",
       "term                   0.000000\n",
       "int_rate               0.000000\n",
       "installment            0.000000\n",
       "grade                  0.000000\n",
       "sub_grade              0.000000\n",
       "emp_length             2.706650\n",
       "home_ownership         0.000000\n",
       "annual_inc             0.000000\n",
       "verification_status    0.000000\n",
       "issue_d                0.000000\n",
       "loan_status            0.000000\n",
       "purpose                0.000000\n",
       "dti                    0.000000\n",
       "earliest_cr_line       0.000000\n",
       "inq_last_6mths         0.000000\n",
       "open_acc               0.000000\n",
       "pub_rec                0.000000\n",
       "revol_util             0.125891\n",
       "total_acc              0.000000\n",
       "dtype: float64"
      ]
     },
     "execution_count": 205,
     "metadata": {},
     "output_type": "execute_result"
    }
   ],
   "source": [
    "(loan_data.isnull().sum()*100)/len(loan_data)"
   ]
  },
  {
   "cell_type": "markdown",
   "id": "cbd0b30c-2495-4f1f-b3b6-8edf3c0333e0",
   "metadata": {},
   "source": [
    "__emp_length and revol_util have the missing values.This needs to be fixed__ \n"
   ]
  },
  {
   "cell_type": "code",
   "execution_count": 206,
   "id": "26e65f66-59b0-4d62-b1e8-ed0294f18dca",
   "metadata": {},
   "outputs": [
    {
     "name": "stdout",
     "output_type": "stream",
     "text": [
      "<class 'pandas.core.series.Series'>\n",
      "RangeIndex: 39717 entries, 0 to 39716\n",
      "Series name: emp_length\n",
      "Non-Null Count  Dtype \n",
      "--------------  ----- \n",
      "38642 non-null  object\n",
      "dtypes: object(1)\n",
      "memory usage: 310.4+ KB\n"
     ]
    }
   ],
   "source": [
    "#fixing emp_length first which have 1075 null values\n",
    "# Two options can be taken here \n",
    "  #1) Either drop all the 1075 rows\n",
    "  #2) Assign with the mode value of the column or assign with the highest value count\n",
    "\n",
    "#Proceeding with option#2 for emp_length\n",
    "\n",
    "#Chekcing the dataType of emp_length\n",
    "\n",
    "loan_data[\"emp_length\"].info()"
   ]
  },
  {
   "cell_type": "code",
   "execution_count": 207,
   "id": "06847c89-62a1-4100-a325-a1f3109ebdb8",
   "metadata": {},
   "outputs": [
    {
     "data": {
      "text/plain": [
       "0    10+ years\n",
       "1     < 1 year\n",
       "2    10+ years\n",
       "3    10+ years\n",
       "4       1 year\n",
       "Name: emp_length, dtype: object"
      ]
     },
     "execution_count": 207,
     "metadata": {},
     "output_type": "execute_result"
    }
   ],
   "source": [
    "#printing the emp_length head values\n",
    "loan_data.emp_length.head()"
   ]
  },
  {
   "cell_type": "code",
   "execution_count": 208,
   "id": "9972e07d-8109-489b-9995-ea3dc61e33cd",
   "metadata": {},
   "outputs": [
    {
     "data": {
      "text/plain": [
       "emp_length\n",
       "10+ years    8879\n",
       "< 1 year     4583\n",
       "2 years      4388\n",
       "3 years      4095\n",
       "4 years      3436\n",
       "5 years      3282\n",
       "1 year       3240\n",
       "6 years      2229\n",
       "7 years      1773\n",
       "8 years      1479\n",
       "9 years      1258\n",
       "Name: count, dtype: int64"
      ]
     },
     "execution_count": 208,
     "metadata": {},
     "output_type": "execute_result"
    }
   ],
   "source": [
    "#checking the value_counts for emp_length\n",
    "loan_data.emp_length.value_counts()"
   ]
  },
  {
   "cell_type": "code",
   "execution_count": 209,
   "id": "ffc7c031-8e82-4467-83b0-877282e6f398",
   "metadata": {},
   "outputs": [
    {
     "name": "stdout",
     "output_type": "stream",
     "text": [
      "10+ years\n"
     ]
    }
   ],
   "source": [
    "#checking the mode value for emp_length\n",
    "\n",
    "emp_length_mode = loan_data.emp_length.mode()[0]\n",
    "print(emp_length_mode)"
   ]
  },
  {
   "cell_type": "markdown",
   "id": "b528d0a2-0268-4b44-9ab7-040fcc9fa774",
   "metadata": {},
   "source": [
    "__The above result of mode and value_counts shows that 10+ years can be assigned for null values in emp_length column__\n",
    "\n"
   ]
  },
  {
   "cell_type": "code",
   "execution_count": 210,
   "id": "0c524432-f868-4dbf-8b98-81a764026112",
   "metadata": {},
   "outputs": [],
   "source": [
    "#Assigning values of null with 10+ Years\n",
    "loan_data.emp_length.fillna(loan_data.emp_length.mode()[0], inplace =True)"
   ]
  },
  {
   "cell_type": "code",
   "execution_count": 211,
   "id": "b2fe3992-6e9f-4e75-9ae5-92763c2d6161",
   "metadata": {},
   "outputs": [
    {
     "data": {
      "text/plain": [
       "0"
      ]
     },
     "execution_count": 211,
     "metadata": {},
     "output_type": "execute_result"
    }
   ],
   "source": [
    "#Checking for null values in emp_length\n",
    "loan_data.emp_length.isna().sum()"
   ]
  },
  {
   "cell_type": "code",
   "execution_count": 212,
   "id": "247cade3-ea27-47f4-9175-c5d8d219aea0",
   "metadata": {},
   "outputs": [
    {
     "data": {
      "text/plain": [
       "0"
      ]
     },
     "execution_count": 212,
     "metadata": {},
     "output_type": "execute_result"
    }
   ],
   "source": [
    "#Since the values in revol_util is just 50. Dropping those 50 rows from Analysis\n",
    "loan_data.dropna(axis=0,subset = [\"revol_util\"] ,inplace=True)\n",
    "loan_data.revol_util.isna().sum()"
   ]
  },
  {
   "cell_type": "code",
   "execution_count": 213,
   "id": "3bb6e23e-c8db-4235-b010-c3be64565407",
   "metadata": {},
   "outputs": [
    {
     "data": {
      "text/plain": [
       "loan_amnt              0\n",
       "funded_amnt            0\n",
       "funded_amnt_inv        0\n",
       "term                   0\n",
       "int_rate               0\n",
       "installment            0\n",
       "grade                  0\n",
       "sub_grade              0\n",
       "emp_length             0\n",
       "home_ownership         0\n",
       "annual_inc             0\n",
       "verification_status    0\n",
       "issue_d                0\n",
       "loan_status            0\n",
       "purpose                0\n",
       "dti                    0\n",
       "earliest_cr_line       0\n",
       "inq_last_6mths         0\n",
       "open_acc               0\n",
       "pub_rec                0\n",
       "revol_util             0\n",
       "total_acc              0\n",
       "dtype: int64"
      ]
     },
     "execution_count": 213,
     "metadata": {},
     "output_type": "execute_result"
    }
   ],
   "source": [
    "#Chekcing full columns to see if any of them having any null value\n",
    "loan_data.isnull().sum()"
   ]
  },
  {
   "cell_type": "markdown",
   "id": "e3751a18-7332-445a-b6c7-4e90e488fcbd",
   "metadata": {},
   "source": [
    "__DATA STANDARDIZATION__"
   ]
  },
  {
   "cell_type": "code",
   "execution_count": 214,
   "id": "e4128045-355b-40c6-8bfc-5bee736ff0da",
   "metadata": {},
   "outputs": [
    {
     "data": {
      "text/html": [
       "<div>\n",
       "<style scoped>\n",
       "    .dataframe tbody tr th:only-of-type {\n",
       "        vertical-align: middle;\n",
       "    }\n",
       "\n",
       "    .dataframe tbody tr th {\n",
       "        vertical-align: top;\n",
       "    }\n",
       "\n",
       "    .dataframe thead th {\n",
       "        text-align: right;\n",
       "    }\n",
       "</style>\n",
       "<table border=\"1\" class=\"dataframe\">\n",
       "  <thead>\n",
       "    <tr style=\"text-align: right;\">\n",
       "      <th></th>\n",
       "      <th>loan_amnt</th>\n",
       "      <th>funded_amnt</th>\n",
       "      <th>funded_amnt_inv</th>\n",
       "      <th>term</th>\n",
       "      <th>int_rate</th>\n",
       "      <th>installment</th>\n",
       "      <th>grade</th>\n",
       "      <th>sub_grade</th>\n",
       "      <th>emp_length</th>\n",
       "      <th>home_ownership</th>\n",
       "      <th>...</th>\n",
       "      <th>issue_d</th>\n",
       "      <th>loan_status</th>\n",
       "      <th>purpose</th>\n",
       "      <th>dti</th>\n",
       "      <th>earliest_cr_line</th>\n",
       "      <th>inq_last_6mths</th>\n",
       "      <th>open_acc</th>\n",
       "      <th>pub_rec</th>\n",
       "      <th>revol_util</th>\n",
       "      <th>total_acc</th>\n",
       "    </tr>\n",
       "  </thead>\n",
       "  <tbody>\n",
       "    <tr>\n",
       "      <th>0</th>\n",
       "      <td>5000</td>\n",
       "      <td>5000</td>\n",
       "      <td>4975.0</td>\n",
       "      <td>36 months</td>\n",
       "      <td>10.65%</td>\n",
       "      <td>162.87</td>\n",
       "      <td>B</td>\n",
       "      <td>B2</td>\n",
       "      <td>10+ years</td>\n",
       "      <td>RENT</td>\n",
       "      <td>...</td>\n",
       "      <td>Dec-11</td>\n",
       "      <td>Fully Paid</td>\n",
       "      <td>credit_card</td>\n",
       "      <td>27.65</td>\n",
       "      <td>Jan-85</td>\n",
       "      <td>1</td>\n",
       "      <td>3</td>\n",
       "      <td>0</td>\n",
       "      <td>83.70%</td>\n",
       "      <td>9</td>\n",
       "    </tr>\n",
       "    <tr>\n",
       "      <th>1</th>\n",
       "      <td>2500</td>\n",
       "      <td>2500</td>\n",
       "      <td>2500.0</td>\n",
       "      <td>60 months</td>\n",
       "      <td>15.27%</td>\n",
       "      <td>59.83</td>\n",
       "      <td>C</td>\n",
       "      <td>C4</td>\n",
       "      <td>&lt; 1 year</td>\n",
       "      <td>RENT</td>\n",
       "      <td>...</td>\n",
       "      <td>Dec-11</td>\n",
       "      <td>Charged Off</td>\n",
       "      <td>car</td>\n",
       "      <td>1.00</td>\n",
       "      <td>Apr-99</td>\n",
       "      <td>5</td>\n",
       "      <td>3</td>\n",
       "      <td>0</td>\n",
       "      <td>9.40%</td>\n",
       "      <td>4</td>\n",
       "    </tr>\n",
       "    <tr>\n",
       "      <th>2</th>\n",
       "      <td>2400</td>\n",
       "      <td>2400</td>\n",
       "      <td>2400.0</td>\n",
       "      <td>36 months</td>\n",
       "      <td>15.96%</td>\n",
       "      <td>84.33</td>\n",
       "      <td>C</td>\n",
       "      <td>C5</td>\n",
       "      <td>10+ years</td>\n",
       "      <td>RENT</td>\n",
       "      <td>...</td>\n",
       "      <td>Dec-11</td>\n",
       "      <td>Fully Paid</td>\n",
       "      <td>small_business</td>\n",
       "      <td>8.72</td>\n",
       "      <td>Nov-01</td>\n",
       "      <td>2</td>\n",
       "      <td>2</td>\n",
       "      <td>0</td>\n",
       "      <td>98.50%</td>\n",
       "      <td>10</td>\n",
       "    </tr>\n",
       "    <tr>\n",
       "      <th>3</th>\n",
       "      <td>10000</td>\n",
       "      <td>10000</td>\n",
       "      <td>10000.0</td>\n",
       "      <td>36 months</td>\n",
       "      <td>13.49%</td>\n",
       "      <td>339.31</td>\n",
       "      <td>C</td>\n",
       "      <td>C1</td>\n",
       "      <td>10+ years</td>\n",
       "      <td>RENT</td>\n",
       "      <td>...</td>\n",
       "      <td>Dec-11</td>\n",
       "      <td>Fully Paid</td>\n",
       "      <td>other</td>\n",
       "      <td>20.00</td>\n",
       "      <td>Feb-96</td>\n",
       "      <td>1</td>\n",
       "      <td>10</td>\n",
       "      <td>0</td>\n",
       "      <td>21%</td>\n",
       "      <td>37</td>\n",
       "    </tr>\n",
       "    <tr>\n",
       "      <th>4</th>\n",
       "      <td>3000</td>\n",
       "      <td>3000</td>\n",
       "      <td>3000.0</td>\n",
       "      <td>60 months</td>\n",
       "      <td>12.69%</td>\n",
       "      <td>67.79</td>\n",
       "      <td>B</td>\n",
       "      <td>B5</td>\n",
       "      <td>1 year</td>\n",
       "      <td>RENT</td>\n",
       "      <td>...</td>\n",
       "      <td>Dec-11</td>\n",
       "      <td>Current</td>\n",
       "      <td>other</td>\n",
       "      <td>17.94</td>\n",
       "      <td>Jan-96</td>\n",
       "      <td>0</td>\n",
       "      <td>15</td>\n",
       "      <td>0</td>\n",
       "      <td>53.90%</td>\n",
       "      <td>38</td>\n",
       "    </tr>\n",
       "  </tbody>\n",
       "</table>\n",
       "<p>5 rows × 22 columns</p>\n",
       "</div>"
      ],
      "text/plain": [
       "   loan_amnt  funded_amnt  funded_amnt_inv        term int_rate  installment  \\\n",
       "0       5000         5000           4975.0   36 months   10.65%       162.87   \n",
       "1       2500         2500           2500.0   60 months   15.27%        59.83   \n",
       "2       2400         2400           2400.0   36 months   15.96%        84.33   \n",
       "3      10000        10000          10000.0   36 months   13.49%       339.31   \n",
       "4       3000         3000           3000.0   60 months   12.69%        67.79   \n",
       "\n",
       "  grade sub_grade emp_length home_ownership  ...  issue_d  loan_status  \\\n",
       "0     B        B2  10+ years           RENT  ...   Dec-11   Fully Paid   \n",
       "1     C        C4   < 1 year           RENT  ...   Dec-11  Charged Off   \n",
       "2     C        C5  10+ years           RENT  ...   Dec-11   Fully Paid   \n",
       "3     C        C1  10+ years           RENT  ...   Dec-11   Fully Paid   \n",
       "4     B        B5     1 year           RENT  ...   Dec-11      Current   \n",
       "\n",
       "          purpose    dti earliest_cr_line  inq_last_6mths open_acc  pub_rec  \\\n",
       "0     credit_card  27.65           Jan-85               1        3        0   \n",
       "1             car   1.00           Apr-99               5        3        0   \n",
       "2  small_business   8.72           Nov-01               2        2        0   \n",
       "3           other  20.00           Feb-96               1       10        0   \n",
       "4           other  17.94           Jan-96               0       15        0   \n",
       "\n",
       "   revol_util  total_acc  \n",
       "0      83.70%          9  \n",
       "1       9.40%          4  \n",
       "2      98.50%         10  \n",
       "3         21%         37  \n",
       "4      53.90%         38  \n",
       "\n",
       "[5 rows x 22 columns]"
      ]
     },
     "execution_count": 214,
     "metadata": {},
     "output_type": "execute_result"
    }
   ],
   "source": [
    "#checking the current head value\n",
    "loan_data.head()"
   ]
  },
  {
   "cell_type": "code",
   "execution_count": 215,
   "id": "4a9de0aa-1936-4bd1-aaf5-bb8a65d15b1a",
   "metadata": {},
   "outputs": [
    {
     "name": "stdout",
     "output_type": "stream",
     "text": [
      "<class 'pandas.core.frame.DataFrame'>\n",
      "Index: 39667 entries, 0 to 39716\n",
      "Data columns (total 22 columns):\n",
      " #   Column               Non-Null Count  Dtype  \n",
      "---  ------               --------------  -----  \n",
      " 0   loan_amnt            39667 non-null  int64  \n",
      " 1   funded_amnt          39667 non-null  int64  \n",
      " 2   funded_amnt_inv      39667 non-null  float64\n",
      " 3   term                 39667 non-null  object \n",
      " 4   int_rate             39667 non-null  object \n",
      " 5   installment          39667 non-null  float64\n",
      " 6   grade                39667 non-null  object \n",
      " 7   sub_grade            39667 non-null  object \n",
      " 8   emp_length           39667 non-null  object \n",
      " 9   home_ownership       39667 non-null  object \n",
      " 10  annual_inc           39667 non-null  float64\n",
      " 11  verification_status  39667 non-null  object \n",
      " 12  issue_d              39667 non-null  object \n",
      " 13  loan_status          39667 non-null  object \n",
      " 14  purpose              39667 non-null  object \n",
      " 15  dti                  39667 non-null  float64\n",
      " 16  earliest_cr_line     39667 non-null  object \n",
      " 17  inq_last_6mths       39667 non-null  int64  \n",
      " 18  open_acc             39667 non-null  int64  \n",
      " 19  pub_rec              39667 non-null  int64  \n",
      " 20  revol_util           39667 non-null  object \n",
      " 21  total_acc            39667 non-null  int64  \n",
      "dtypes: float64(4), int64(6), object(12)\n",
      "memory usage: 7.0+ MB\n"
     ]
    }
   ],
   "source": [
    "#checking current data types of each columns\n",
    "loan_data.info()"
   ]
  },
  {
   "cell_type": "code",
   "execution_count": 216,
   "id": "e04eba68-7e05-422d-bae9-34e5f4d7fd41",
   "metadata": {},
   "outputs": [],
   "source": [
    "# % needs to be removed from int_rate and revol_util and can be converted to float for analysis\n",
    "\n",
    "loan_data.int_rate= pd.to_numeric(loan_data.int_rate.apply(lambda x: x.split('%')[0]))\n",
    "loan_data.revol_util= pd.to_numeric(loan_data.revol_util.apply(lambda x: x.split('%')[0]))"
   ]
  },
  {
   "cell_type": "code",
   "execution_count": 217,
   "id": "0066af66-a10c-41b4-a644-5bd498238736",
   "metadata": {},
   "outputs": [],
   "source": [
    "# changing emp_length to numberic value by extracting the integer part\n",
    "#Data have < , + and space which can be used to split the data and convert to float value\n",
    "loan_data.emp_length= pd.to_numeric(loan_data.emp_length.apply(lambda x: 0 if \"<\" in x else (x.split(\"+\")[0] if \"+\" in x else x.split()[0])))"
   ]
  },
  {
   "cell_type": "code",
   "execution_count": 218,
   "id": "88a9f983-c3de-43ac-8f91-40de6dd680f3",
   "metadata": {},
   "outputs": [
    {
     "name": "stdout",
     "output_type": "stream",
     "text": [
      "<class 'pandas.core.frame.DataFrame'>\n",
      "Index: 39667 entries, 0 to 39716\n",
      "Data columns (total 22 columns):\n",
      " #   Column               Non-Null Count  Dtype  \n",
      "---  ------               --------------  -----  \n",
      " 0   loan_amnt            39667 non-null  int64  \n",
      " 1   funded_amnt          39667 non-null  int64  \n",
      " 2   funded_amnt_inv      39667 non-null  float64\n",
      " 3   term                 39667 non-null  object \n",
      " 4   int_rate             39667 non-null  float64\n",
      " 5   installment          39667 non-null  float64\n",
      " 6   grade                39667 non-null  object \n",
      " 7   sub_grade            39667 non-null  object \n",
      " 8   emp_length           39667 non-null  int64  \n",
      " 9   home_ownership       39667 non-null  object \n",
      " 10  annual_inc           39667 non-null  float64\n",
      " 11  verification_status  39667 non-null  object \n",
      " 12  issue_d              39667 non-null  object \n",
      " 13  loan_status          39667 non-null  object \n",
      " 14  purpose              39667 non-null  object \n",
      " 15  dti                  39667 non-null  float64\n",
      " 16  earliest_cr_line     39667 non-null  object \n",
      " 17  inq_last_6mths       39667 non-null  int64  \n",
      " 18  open_acc             39667 non-null  int64  \n",
      " 19  pub_rec              39667 non-null  int64  \n",
      " 20  revol_util           39667 non-null  float64\n",
      " 21  total_acc            39667 non-null  int64  \n",
      "dtypes: float64(6), int64(7), object(9)\n",
      "memory usage: 7.0+ MB\n"
     ]
    }
   ],
   "source": [
    "#checking the dataTypes after conversion\n",
    "loan_data.info()"
   ]
  },
  {
   "cell_type": "code",
   "execution_count": 219,
   "id": "57f5ffa5-e4aa-4ec9-ad98-4cd1bf80482a",
   "metadata": {},
   "outputs": [
    {
     "data": {
      "text/html": [
       "<div>\n",
       "<style scoped>\n",
       "    .dataframe tbody tr th:only-of-type {\n",
       "        vertical-align: middle;\n",
       "    }\n",
       "\n",
       "    .dataframe tbody tr th {\n",
       "        vertical-align: top;\n",
       "    }\n",
       "\n",
       "    .dataframe thead th {\n",
       "        text-align: right;\n",
       "    }\n",
       "</style>\n",
       "<table border=\"1\" class=\"dataframe\">\n",
       "  <thead>\n",
       "    <tr style=\"text-align: right;\">\n",
       "      <th></th>\n",
       "      <th>loan_amnt</th>\n",
       "      <th>funded_amnt</th>\n",
       "      <th>funded_amnt_inv</th>\n",
       "      <th>term</th>\n",
       "      <th>int_rate</th>\n",
       "      <th>installment</th>\n",
       "      <th>grade</th>\n",
       "      <th>sub_grade</th>\n",
       "      <th>emp_length</th>\n",
       "      <th>home_ownership</th>\n",
       "      <th>...</th>\n",
       "      <th>issue_d</th>\n",
       "      <th>loan_status</th>\n",
       "      <th>purpose</th>\n",
       "      <th>dti</th>\n",
       "      <th>earliest_cr_line</th>\n",
       "      <th>inq_last_6mths</th>\n",
       "      <th>open_acc</th>\n",
       "      <th>pub_rec</th>\n",
       "      <th>revol_util</th>\n",
       "      <th>total_acc</th>\n",
       "    </tr>\n",
       "  </thead>\n",
       "  <tbody>\n",
       "    <tr>\n",
       "      <th>0</th>\n",
       "      <td>5000</td>\n",
       "      <td>5000</td>\n",
       "      <td>4975.0</td>\n",
       "      <td>36 months</td>\n",
       "      <td>10.65</td>\n",
       "      <td>162.87</td>\n",
       "      <td>B</td>\n",
       "      <td>B2</td>\n",
       "      <td>10</td>\n",
       "      <td>RENT</td>\n",
       "      <td>...</td>\n",
       "      <td>Dec-11</td>\n",
       "      <td>Fully Paid</td>\n",
       "      <td>credit_card</td>\n",
       "      <td>27.65</td>\n",
       "      <td>Jan-85</td>\n",
       "      <td>1</td>\n",
       "      <td>3</td>\n",
       "      <td>0</td>\n",
       "      <td>83.7</td>\n",
       "      <td>9</td>\n",
       "    </tr>\n",
       "    <tr>\n",
       "      <th>1</th>\n",
       "      <td>2500</td>\n",
       "      <td>2500</td>\n",
       "      <td>2500.0</td>\n",
       "      <td>60 months</td>\n",
       "      <td>15.27</td>\n",
       "      <td>59.83</td>\n",
       "      <td>C</td>\n",
       "      <td>C4</td>\n",
       "      <td>0</td>\n",
       "      <td>RENT</td>\n",
       "      <td>...</td>\n",
       "      <td>Dec-11</td>\n",
       "      <td>Charged Off</td>\n",
       "      <td>car</td>\n",
       "      <td>1.00</td>\n",
       "      <td>Apr-99</td>\n",
       "      <td>5</td>\n",
       "      <td>3</td>\n",
       "      <td>0</td>\n",
       "      <td>9.4</td>\n",
       "      <td>4</td>\n",
       "    </tr>\n",
       "    <tr>\n",
       "      <th>2</th>\n",
       "      <td>2400</td>\n",
       "      <td>2400</td>\n",
       "      <td>2400.0</td>\n",
       "      <td>36 months</td>\n",
       "      <td>15.96</td>\n",
       "      <td>84.33</td>\n",
       "      <td>C</td>\n",
       "      <td>C5</td>\n",
       "      <td>10</td>\n",
       "      <td>RENT</td>\n",
       "      <td>...</td>\n",
       "      <td>Dec-11</td>\n",
       "      <td>Fully Paid</td>\n",
       "      <td>small_business</td>\n",
       "      <td>8.72</td>\n",
       "      <td>Nov-01</td>\n",
       "      <td>2</td>\n",
       "      <td>2</td>\n",
       "      <td>0</td>\n",
       "      <td>98.5</td>\n",
       "      <td>10</td>\n",
       "    </tr>\n",
       "    <tr>\n",
       "      <th>3</th>\n",
       "      <td>10000</td>\n",
       "      <td>10000</td>\n",
       "      <td>10000.0</td>\n",
       "      <td>36 months</td>\n",
       "      <td>13.49</td>\n",
       "      <td>339.31</td>\n",
       "      <td>C</td>\n",
       "      <td>C1</td>\n",
       "      <td>10</td>\n",
       "      <td>RENT</td>\n",
       "      <td>...</td>\n",
       "      <td>Dec-11</td>\n",
       "      <td>Fully Paid</td>\n",
       "      <td>other</td>\n",
       "      <td>20.00</td>\n",
       "      <td>Feb-96</td>\n",
       "      <td>1</td>\n",
       "      <td>10</td>\n",
       "      <td>0</td>\n",
       "      <td>21.0</td>\n",
       "      <td>37</td>\n",
       "    </tr>\n",
       "    <tr>\n",
       "      <th>4</th>\n",
       "      <td>3000</td>\n",
       "      <td>3000</td>\n",
       "      <td>3000.0</td>\n",
       "      <td>60 months</td>\n",
       "      <td>12.69</td>\n",
       "      <td>67.79</td>\n",
       "      <td>B</td>\n",
       "      <td>B5</td>\n",
       "      <td>1</td>\n",
       "      <td>RENT</td>\n",
       "      <td>...</td>\n",
       "      <td>Dec-11</td>\n",
       "      <td>Current</td>\n",
       "      <td>other</td>\n",
       "      <td>17.94</td>\n",
       "      <td>Jan-96</td>\n",
       "      <td>0</td>\n",
       "      <td>15</td>\n",
       "      <td>0</td>\n",
       "      <td>53.9</td>\n",
       "      <td>38</td>\n",
       "    </tr>\n",
       "  </tbody>\n",
       "</table>\n",
       "<p>5 rows × 22 columns</p>\n",
       "</div>"
      ],
      "text/plain": [
       "   loan_amnt  funded_amnt  funded_amnt_inv        term  int_rate  installment  \\\n",
       "0       5000         5000           4975.0   36 months     10.65       162.87   \n",
       "1       2500         2500           2500.0   60 months     15.27        59.83   \n",
       "2       2400         2400           2400.0   36 months     15.96        84.33   \n",
       "3      10000        10000          10000.0   36 months     13.49       339.31   \n",
       "4       3000         3000           3000.0   60 months     12.69        67.79   \n",
       "\n",
       "  grade sub_grade  emp_length home_ownership  ...  issue_d  loan_status  \\\n",
       "0     B        B2          10           RENT  ...   Dec-11   Fully Paid   \n",
       "1     C        C4           0           RENT  ...   Dec-11  Charged Off   \n",
       "2     C        C5          10           RENT  ...   Dec-11   Fully Paid   \n",
       "3     C        C1          10           RENT  ...   Dec-11   Fully Paid   \n",
       "4     B        B5           1           RENT  ...   Dec-11      Current   \n",
       "\n",
       "          purpose    dti earliest_cr_line  inq_last_6mths open_acc  pub_rec  \\\n",
       "0     credit_card  27.65           Jan-85               1        3        0   \n",
       "1             car   1.00           Apr-99               5        3        0   \n",
       "2  small_business   8.72           Nov-01               2        2        0   \n",
       "3           other  20.00           Feb-96               1       10        0   \n",
       "4           other  17.94           Jan-96               0       15        0   \n",
       "\n",
       "   revol_util  total_acc  \n",
       "0        83.7          9  \n",
       "1         9.4          4  \n",
       "2        98.5         10  \n",
       "3        21.0         37  \n",
       "4        53.9         38  \n",
       "\n",
       "[5 rows x 22 columns]"
      ]
     },
     "execution_count": 219,
     "metadata": {},
     "output_type": "execute_result"
    }
   ],
   "source": [
    "#Checking the data head\n",
    "loan_data.head()"
   ]
  },
  {
   "cell_type": "markdown",
   "id": "baaae0d7-c784-4ba5-94e6-d6351c8851ae",
   "metadata": {},
   "source": [
    "__OUTLIER DETECTION FOR THE EXISTING DATA BEFORE ANALYSIS__"
   ]
  },
  {
   "cell_type": "code",
   "execution_count": 220,
   "id": "adb60619-c531-4079-86d8-ebfab988f6c4",
   "metadata": {},
   "outputs": [
    {
     "data": {
      "text/plain": [
       "<Axes: ylabel='loan_amnt'>"
      ]
     },
     "execution_count": 220,
     "metadata": {},
     "output_type": "execute_result"
    },
    {
     "data": {
      "image/png": "[encoded data removed]",
      "text/plain": [
       "<Figure size 640x480 with 1 Axes>"
      ]
     },
     "metadata": {},
     "output_type": "display_data"
    }
   ],
   "source": [
    "#Analyzing the numerical columns loan_amount and funded_amnt_inv for outlier detection\n",
    "\n",
    "sns.boxplot(loan_data.loan_amnt)"
   ]
  },
  {
   "cell_type": "code",
   "execution_count": 221,
   "id": "773218c0-f399-4b56-a218-051b8aee9866",
   "metadata": {},
   "outputs": [
    {
     "data": {
      "text/plain": [
       "0.75    15000.0\n",
       "0.80    16750.0\n",
       "0.85    20000.0\n",
       "0.90    22000.0\n",
       "0.95    25000.0\n",
       "0.97    30000.0\n",
       "0.98    31500.0\n",
       "0.99    35000.0\n",
       "1.00    35000.0\n",
       "Name: loan_amnt, dtype: float64"
      ]
     },
     "execution_count": 221,
     "metadata": {},
     "output_type": "execute_result"
    }
   ],
   "source": [
    "#checking the quantile value for loan_amnt to see if any data needs to be removed\n",
    "\n",
    "loan_data.loan_amnt.quantile([0.75,0.80 ,0.85,0.90,0.95,0.97,0.98,0.99,1])"
   ]
  },
  {
   "cell_type": "markdown",
   "id": "b5892012-594b-4867-87cc-16a3888eb739",
   "metadata": {},
   "source": [
    "__There is no huge difference in loan_amnt amount data and distribution is almost consistent__  \n",
    "__No need to remove any outliers from loan_amnt column__"
   ]
  },
  {
   "cell_type": "code",
   "execution_count": 222,
   "id": "a4566d65-61e9-4a5f-9d2f-cbb8f827ecae",
   "metadata": {},
   "outputs": [
    {
     "data": {
      "text/plain": [
       "<Axes: ylabel='funded_amnt_inv'>"
      ]
     },
     "execution_count": 222,
     "metadata": {},
     "output_type": "execute_result"
    },
    {
     "data": {
      "image/png": "[encoded data removed]",
      "text/plain": [
       "<Figure size 640x480 with 1 Axes>"
      ]
     },
     "metadata": {},
     "output_type": "display_data"
    }
   ],
   "source": [
    "#Checking funded_amnt_inv for outliers\n",
    "sns.boxplot(loan_data.funded_amnt_inv)"
   ]
  },
  {
   "cell_type": "code",
   "execution_count": 223,
   "id": "f583059a-67c8-4403-9396-590d7f84e3cb",
   "metadata": {},
   "outputs": [
    {
     "data": {
      "text/plain": [
       "0.75    14400.000000\n",
       "0.80    15250.000000\n",
       "0.85    17950.000000\n",
       "0.90    20000.000000\n",
       "0.95    24738.880528\n",
       "0.97    27025.000000\n",
       "0.98    29975.000000\n",
       "0.99    34750.000000\n",
       "1.00    35000.000000\n",
       "Name: funded_amnt_inv, dtype: float64"
      ]
     },
     "execution_count": 223,
     "metadata": {},
     "output_type": "execute_result"
    }
   ],
   "source": [
    "#checking the quantile value for funded_amnt_inv to see if any data needs to be removed\n",
    "\n",
    "loan_data.funded_amnt_inv.quantile([0.75,0.80 ,0.85,0.90,0.95,0.97,0.98,0.99,1])"
   ]
  },
  {
   "cell_type": "markdown",
   "id": "99504281-1c61-48a2-962a-5d261cbfa07d",
   "metadata": {},
   "source": [
    "__There is no huge difference in funded_amnt_inv data and distribution is almost consistent__  \n",
    "__No need to remove any outliers from funded_amnt_inv column__"
   ]
  },
  {
   "cell_type": "code",
   "execution_count": 224,
   "id": "2e35515d-3564-4142-aa05-2c2ba2d73c73",
   "metadata": {},
   "outputs": [
    {
     "data": {
      "image/png": "[encoded data removed]",
      "text/plain": [
       "<Figure size 640x480 with 1 Axes>"
      ]
     },
     "metadata": {},
     "output_type": "display_data"
    }
   ],
   "source": [
    "#Checking outliers in annual_inc column\n",
    "sns.boxplot(loan_data.annual_inc)\n",
    "plt.show()"
   ]
  },
  {
   "cell_type": "markdown",
   "id": "764b1be9-702d-4f26-a579-a4603305b5c8",
   "metadata": {},
   "source": [
    "__The above data shows some outliers and this needs to be removed__"
   ]
  },
  {
   "cell_type": "code",
   "execution_count": 225,
   "id": "7279c654-b330-45a2-962c-7b6480cf614f",
   "metadata": {},
   "outputs": [
    {
     "data": {
      "text/plain": [
       "0.75      82400.00\n",
       "0.80      90000.00\n",
       "0.85     100000.00\n",
       "0.90     116000.00\n",
       "0.95     142000.00\n",
       "0.97     165996.00\n",
       "0.98     187000.00\n",
       "0.99     234997.36\n",
       "1.00    6000000.00\n",
       "Name: annual_inc, dtype: float64"
      ]
     },
     "execution_count": 225,
     "metadata": {},
     "output_type": "execute_result"
    }
   ],
   "source": [
    "#checking the quantile info for annual_inc\n",
    "loan_data.annual_inc.quantile([0.75,0.80 ,0.85,0.90,0.95,0.97,0.98,0.99,1])"
   ]
  },
  {
   "cell_type": "markdown",
   "id": "d630a11f-a825-4284-aa46-faac02335cda",
   "metadata": {},
   "source": [
    "__Considering 95 percenatile as a base mark we can consider data beyond 95 percentile as outlier__"
   ]
  },
  {
   "cell_type": "code",
   "execution_count": 226,
   "id": "ad3c2121-c6c4-42b4-9f07-52b2046d2321",
   "metadata": {},
   "outputs": [],
   "source": [
    "filter_outlier = loan_data[\"annual_inc\"].quantile(0.95)\n",
    "loan_data = loan_data[loan_data.annual_inc <=filter_outlier]"
   ]
  },
  {
   "cell_type": "code",
   "execution_count": 227,
   "id": "342a8b0f-b31f-44d4-af76-5d6fa63b5aa6",
   "metadata": {},
   "outputs": [
    {
     "data": {
      "text/plain": [
       "<Axes: ylabel='annual_inc'>"
      ]
     },
     "execution_count": 227,
     "metadata": {},
     "output_type": "execute_result"
    },
    {
     "data": {
      "image/png": "[encoded data removed]",
      "text/plain": [
       "<Figure size 640x480 with 1 Axes>"
      ]
     },
     "metadata": {},
     "output_type": "display_data"
    }
   ],
   "source": [
    "#plotting annual_inc to see if outliers are removed\n",
    "sns.boxplot(loan_data.annual_inc)"
   ]
  },
  {
   "cell_type": "markdown",
   "id": "88504318-5a21-44c2-9354-b63492612f50",
   "metadata": {},
   "source": [
    "__annual_inc seems to be proper now after removing the outliers__"
   ]
  },
  {
   "cell_type": "markdown",
   "id": "110fdbb7-7ec2-4004-97ba-9764f708d40b",
   "metadata": {},
   "source": [
    "#Analyzing the loan_status column  \n",
    "\n",
    "__The current usecase of loan default is applicable only for fully paid or charged off loans__  \n",
    "\n",
    "__Removing the Current loan from the analysis__ "
   ]
  },
  {
   "cell_type": "code",
   "execution_count": 228,
   "id": "e9c2136c-25ce-4258-8160-b17153004a3c",
   "metadata": {},
   "outputs": [],
   "source": [
    "loan_data = loan_data[loan_data.loan_status != \"Current\"]"
   ]
  },
  {
   "cell_type": "code",
   "execution_count": 229,
   "id": "92e4775b-0023-4b18-8f2c-2943ac2326ca",
   "metadata": {},
   "outputs": [
    {
     "data": {
      "text/plain": [
       "(36641, 22)"
      ]
     },
     "execution_count": 229,
     "metadata": {},
     "output_type": "execute_result"
    }
   ],
   "source": [
    "#Checking the shape value\n",
    "loan_data.shape"
   ]
  },
  {
   "cell_type": "code",
   "execution_count": 230,
   "id": "3935f809-838e-4818-91a8-aa1803ea4883",
   "metadata": {},
   "outputs": [
    {
     "data": {
      "text/html": [
       "<div>\n",
       "<style scoped>\n",
       "    .dataframe tbody tr th:only-of-type {\n",
       "        vertical-align: middle;\n",
       "    }\n",
       "\n",
       "    .dataframe tbody tr th {\n",
       "        vertical-align: top;\n",
       "    }\n",
       "\n",
       "    .dataframe thead th {\n",
       "        text-align: right;\n",
       "    }\n",
       "</style>\n",
       "<table border=\"1\" class=\"dataframe\">\n",
       "  <thead>\n",
       "    <tr style=\"text-align: right;\">\n",
       "      <th></th>\n",
       "      <th>loan_amnt</th>\n",
       "      <th>funded_amnt</th>\n",
       "      <th>funded_amnt_inv</th>\n",
       "      <th>term</th>\n",
       "      <th>int_rate</th>\n",
       "      <th>installment</th>\n",
       "      <th>grade</th>\n",
       "      <th>sub_grade</th>\n",
       "      <th>emp_length</th>\n",
       "      <th>home_ownership</th>\n",
       "      <th>...</th>\n",
       "      <th>issue_d</th>\n",
       "      <th>loan_status</th>\n",
       "      <th>purpose</th>\n",
       "      <th>dti</th>\n",
       "      <th>earliest_cr_line</th>\n",
       "      <th>inq_last_6mths</th>\n",
       "      <th>open_acc</th>\n",
       "      <th>pub_rec</th>\n",
       "      <th>revol_util</th>\n",
       "      <th>total_acc</th>\n",
       "    </tr>\n",
       "  </thead>\n",
       "  <tbody>\n",
       "    <tr>\n",
       "      <th>0</th>\n",
       "      <td>5000</td>\n",
       "      <td>5000</td>\n",
       "      <td>4975.0</td>\n",
       "      <td>36 months</td>\n",
       "      <td>10.65</td>\n",
       "      <td>162.87</td>\n",
       "      <td>B</td>\n",
       "      <td>B2</td>\n",
       "      <td>10</td>\n",
       "      <td>RENT</td>\n",
       "      <td>...</td>\n",
       "      <td>Dec-11</td>\n",
       "      <td>Fully Paid</td>\n",
       "      <td>credit_card</td>\n",
       "      <td>27.65</td>\n",
       "      <td>Jan-85</td>\n",
       "      <td>1</td>\n",
       "      <td>3</td>\n",
       "      <td>0</td>\n",
       "      <td>83.7</td>\n",
       "      <td>9</td>\n",
       "    </tr>\n",
       "    <tr>\n",
       "      <th>1</th>\n",
       "      <td>2500</td>\n",
       "      <td>2500</td>\n",
       "      <td>2500.0</td>\n",
       "      <td>60 months</td>\n",
       "      <td>15.27</td>\n",
       "      <td>59.83</td>\n",
       "      <td>C</td>\n",
       "      <td>C4</td>\n",
       "      <td>0</td>\n",
       "      <td>RENT</td>\n",
       "      <td>...</td>\n",
       "      <td>Dec-11</td>\n",
       "      <td>Charged Off</td>\n",
       "      <td>car</td>\n",
       "      <td>1.00</td>\n",
       "      <td>Apr-99</td>\n",
       "      <td>5</td>\n",
       "      <td>3</td>\n",
       "      <td>0</td>\n",
       "      <td>9.4</td>\n",
       "      <td>4</td>\n",
       "    </tr>\n",
       "    <tr>\n",
       "      <th>2</th>\n",
       "      <td>2400</td>\n",
       "      <td>2400</td>\n",
       "      <td>2400.0</td>\n",
       "      <td>36 months</td>\n",
       "      <td>15.96</td>\n",
       "      <td>84.33</td>\n",
       "      <td>C</td>\n",
       "      <td>C5</td>\n",
       "      <td>10</td>\n",
       "      <td>RENT</td>\n",
       "      <td>...</td>\n",
       "      <td>Dec-11</td>\n",
       "      <td>Fully Paid</td>\n",
       "      <td>small_business</td>\n",
       "      <td>8.72</td>\n",
       "      <td>Nov-01</td>\n",
       "      <td>2</td>\n",
       "      <td>2</td>\n",
       "      <td>0</td>\n",
       "      <td>98.5</td>\n",
       "      <td>10</td>\n",
       "    </tr>\n",
       "    <tr>\n",
       "      <th>3</th>\n",
       "      <td>10000</td>\n",
       "      <td>10000</td>\n",
       "      <td>10000.0</td>\n",
       "      <td>36 months</td>\n",
       "      <td>13.49</td>\n",
       "      <td>339.31</td>\n",
       "      <td>C</td>\n",
       "      <td>C1</td>\n",
       "      <td>10</td>\n",
       "      <td>RENT</td>\n",
       "      <td>...</td>\n",
       "      <td>Dec-11</td>\n",
       "      <td>Fully Paid</td>\n",
       "      <td>other</td>\n",
       "      <td>20.00</td>\n",
       "      <td>Feb-96</td>\n",
       "      <td>1</td>\n",
       "      <td>10</td>\n",
       "      <td>0</td>\n",
       "      <td>21.0</td>\n",
       "      <td>37</td>\n",
       "    </tr>\n",
       "    <tr>\n",
       "      <th>5</th>\n",
       "      <td>5000</td>\n",
       "      <td>5000</td>\n",
       "      <td>5000.0</td>\n",
       "      <td>36 months</td>\n",
       "      <td>7.90</td>\n",
       "      <td>156.46</td>\n",
       "      <td>A</td>\n",
       "      <td>A4</td>\n",
       "      <td>3</td>\n",
       "      <td>RENT</td>\n",
       "      <td>...</td>\n",
       "      <td>Dec-11</td>\n",
       "      <td>Fully Paid</td>\n",
       "      <td>wedding</td>\n",
       "      <td>11.20</td>\n",
       "      <td>Nov-04</td>\n",
       "      <td>3</td>\n",
       "      <td>9</td>\n",
       "      <td>0</td>\n",
       "      <td>28.3</td>\n",
       "      <td>12</td>\n",
       "    </tr>\n",
       "  </tbody>\n",
       "</table>\n",
       "<p>5 rows × 22 columns</p>\n",
       "</div>"
      ],
      "text/plain": [
       "   loan_amnt  funded_amnt  funded_amnt_inv        term  int_rate  installment  \\\n",
       "0       5000         5000           4975.0   36 months     10.65       162.87   \n",
       "1       2500         2500           2500.0   60 months     15.27        59.83   \n",
       "2       2400         2400           2400.0   36 months     15.96        84.33   \n",
       "3      10000        10000          10000.0   36 months     13.49       339.31   \n",
       "5       5000         5000           5000.0   36 months      7.90       156.46   \n",
       "\n",
       "  grade sub_grade  emp_length home_ownership  ...  issue_d  loan_status  \\\n",
       "0     B        B2          10           RENT  ...   Dec-11   Fully Paid   \n",
       "1     C        C4           0           RENT  ...   Dec-11  Charged Off   \n",
       "2     C        C5          10           RENT  ...   Dec-11   Fully Paid   \n",
       "3     C        C1          10           RENT  ...   Dec-11   Fully Paid   \n",
       "5     A        A4           3           RENT  ...   Dec-11   Fully Paid   \n",
       "\n",
       "          purpose    dti earliest_cr_line  inq_last_6mths open_acc  pub_rec  \\\n",
       "0     credit_card  27.65           Jan-85               1        3        0   \n",
       "1             car   1.00           Apr-99               5        3        0   \n",
       "2  small_business   8.72           Nov-01               2        2        0   \n",
       "3           other  20.00           Feb-96               1       10        0   \n",
       "5         wedding  11.20           Nov-04               3        9        0   \n",
       "\n",
       "   revol_util  total_acc  \n",
       "0        83.7          9  \n",
       "1         9.4          4  \n",
       "2        98.5         10  \n",
       "3        21.0         37  \n",
       "5        28.3         12  \n",
       "\n",
       "[5 rows x 22 columns]"
      ]
     },
     "execution_count": 230,
     "metadata": {},
     "output_type": "execute_result"
    }
   ],
   "source": [
    "#checking the head value\n",
    "loan_data.head()"
   ]
  },
  {
   "cell_type": "code",
   "execution_count": 231,
   "id": "6db8fdfb-5837-4a9b-825a-1b13a8f0cf5c",
   "metadata": {},
   "outputs": [
    {
     "data": {
      "text/plain": [
       "array(['Fully Paid', 'Charged Off'], dtype=object)"
      ]
     },
     "execution_count": 231,
     "metadata": {},
     "output_type": "execute_result"
    }
   ],
   "source": [
    "#Checking loan_status column is not having Current value\n",
    "loan_data.loan_status.unique()"
   ]
  },
  {
   "cell_type": "code",
   "execution_count": 232,
   "id": "8a687ff3-2ee2-4fa3-9c62-5b134b1f8d18",
   "metadata": {},
   "outputs": [
    {
     "data": {
      "image/png": "[encoded data removed]",
      "text/plain": [
       "<Figure size 640x480 with 1 Axes>"
      ]
     },
     "metadata": {},
     "output_type": "display_data"
    }
   ],
   "source": [
    "#Plotting to see how many fully paid and charged off loans is present\n",
    "\n",
    "sns.countplot(x = 'loan_status' ,data =loan_data)\n",
    "plt.show()"
   ]
  },
  {
   "cell_type": "markdown",
   "id": "113fffb2-f750-4a4b-b5b8-f20e802ef2b7",
   "metadata": {},
   "source": [
    "__Few of the numnerical columns are analyzed for outliers__   \n",
    "__Analyzing Categorical Data to get some insights__ "
   ]
  },
  {
   "cell_type": "code",
   "execution_count": 233,
   "id": "d99ab3e0-b9d7-44a6-b4d7-e950e40d9499",
   "metadata": {},
   "outputs": [
    {
     "data": {
      "image/png": "[encoded data removed]",
      "text/plain": [
       "<Figure size 640x480 with 1 Axes>"
      ]
     },
     "metadata": {},
     "output_type": "display_data"
    }
   ],
   "source": [
    "#Analyzing Grade column which is one of the categorical column against charged off loan status\n",
    "\n",
    "custom_colours = [\"red\",\"green\",\"blue\",\"orange\",\"pink\",\"brown\",\"purple\"]\n",
    "sns.countplot(x = 'grade' ,data = loan_data[loan_data.loan_status ==\"Charged Off\"] , order = ['A','B','C','D','E','F','G'] ,palette =custom_colours)\n",
    "plt.show()"
   ]
  },
  {
   "cell_type": "markdown",
   "id": "37bcdf81-6d99-40c5-9f4d-5d365429c359",
   "metadata": {},
   "source": [
    "__Above graph indicates that customers with grade B have a high chance of Loan Default__ "
   ]
  },
  {
   "cell_type": "code",
   "execution_count": 234,
   "id": "50612dd3-3935-4131-9300-477695956e9f",
   "metadata": {},
   "outputs": [
    {
     "data": {
      "text/html": [
       "<div>\n",
       "<style scoped>\n",
       "    .dataframe tbody tr th:only-of-type {\n",
       "        vertical-align: middle;\n",
       "    }\n",
       "\n",
       "    .dataframe tbody tr th {\n",
       "        vertical-align: top;\n",
       "    }\n",
       "\n",
       "    .dataframe thead th {\n",
       "        text-align: right;\n",
       "    }\n",
       "</style>\n",
       "<table border=\"1\" class=\"dataframe\">\n",
       "  <thead>\n",
       "    <tr style=\"text-align: right;\">\n",
       "      <th></th>\n",
       "      <th>loan_amnt</th>\n",
       "      <th>funded_amnt</th>\n",
       "      <th>funded_amnt_inv</th>\n",
       "      <th>term</th>\n",
       "      <th>int_rate</th>\n",
       "      <th>installment</th>\n",
       "      <th>grade</th>\n",
       "      <th>sub_grade</th>\n",
       "      <th>emp_length</th>\n",
       "      <th>home_ownership</th>\n",
       "      <th>...</th>\n",
       "      <th>issue_d</th>\n",
       "      <th>loan_status</th>\n",
       "      <th>purpose</th>\n",
       "      <th>dti</th>\n",
       "      <th>earliest_cr_line</th>\n",
       "      <th>inq_last_6mths</th>\n",
       "      <th>open_acc</th>\n",
       "      <th>pub_rec</th>\n",
       "      <th>revol_util</th>\n",
       "      <th>total_acc</th>\n",
       "    </tr>\n",
       "  </thead>\n",
       "  <tbody>\n",
       "    <tr>\n",
       "      <th>0</th>\n",
       "      <td>5000</td>\n",
       "      <td>5000</td>\n",
       "      <td>4975.0</td>\n",
       "      <td>36 months</td>\n",
       "      <td>10.65</td>\n",
       "      <td>162.87</td>\n",
       "      <td>B</td>\n",
       "      <td>B2</td>\n",
       "      <td>10</td>\n",
       "      <td>RENT</td>\n",
       "      <td>...</td>\n",
       "      <td>Dec-11</td>\n",
       "      <td>Fully Paid</td>\n",
       "      <td>credit_card</td>\n",
       "      <td>27.65</td>\n",
       "      <td>Jan-85</td>\n",
       "      <td>1</td>\n",
       "      <td>3</td>\n",
       "      <td>0</td>\n",
       "      <td>83.7</td>\n",
       "      <td>9</td>\n",
       "    </tr>\n",
       "    <tr>\n",
       "      <th>1</th>\n",
       "      <td>2500</td>\n",
       "      <td>2500</td>\n",
       "      <td>2500.0</td>\n",
       "      <td>60 months</td>\n",
       "      <td>15.27</td>\n",
       "      <td>59.83</td>\n",
       "      <td>C</td>\n",
       "      <td>C4</td>\n",
       "      <td>0</td>\n",
       "      <td>RENT</td>\n",
       "      <td>...</td>\n",
       "      <td>Dec-11</td>\n",
       "      <td>Charged Off</td>\n",
       "      <td>car</td>\n",
       "      <td>1.00</td>\n",
       "      <td>Apr-99</td>\n",
       "      <td>5</td>\n",
       "      <td>3</td>\n",
       "      <td>0</td>\n",
       "      <td>9.4</td>\n",
       "      <td>4</td>\n",
       "    </tr>\n",
       "    <tr>\n",
       "      <th>2</th>\n",
       "      <td>2400</td>\n",
       "      <td>2400</td>\n",
       "      <td>2400.0</td>\n",
       "      <td>36 months</td>\n",
       "      <td>15.96</td>\n",
       "      <td>84.33</td>\n",
       "      <td>C</td>\n",
       "      <td>C5</td>\n",
       "      <td>10</td>\n",
       "      <td>RENT</td>\n",
       "      <td>...</td>\n",
       "      <td>Dec-11</td>\n",
       "      <td>Fully Paid</td>\n",
       "      <td>small_business</td>\n",
       "      <td>8.72</td>\n",
       "      <td>Nov-01</td>\n",
       "      <td>2</td>\n",
       "      <td>2</td>\n",
       "      <td>0</td>\n",
       "      <td>98.5</td>\n",
       "      <td>10</td>\n",
       "    </tr>\n",
       "    <tr>\n",
       "      <th>3</th>\n",
       "      <td>10000</td>\n",
       "      <td>10000</td>\n",
       "      <td>10000.0</td>\n",
       "      <td>36 months</td>\n",
       "      <td>13.49</td>\n",
       "      <td>339.31</td>\n",
       "      <td>C</td>\n",
       "      <td>C1</td>\n",
       "      <td>10</td>\n",
       "      <td>RENT</td>\n",
       "      <td>...</td>\n",
       "      <td>Dec-11</td>\n",
       "      <td>Fully Paid</td>\n",
       "      <td>other</td>\n",
       "      <td>20.00</td>\n",
       "      <td>Feb-96</td>\n",
       "      <td>1</td>\n",
       "      <td>10</td>\n",
       "      <td>0</td>\n",
       "      <td>21.0</td>\n",
       "      <td>37</td>\n",
       "    </tr>\n",
       "    <tr>\n",
       "      <th>5</th>\n",
       "      <td>5000</td>\n",
       "      <td>5000</td>\n",
       "      <td>5000.0</td>\n",
       "      <td>36 months</td>\n",
       "      <td>7.90</td>\n",
       "      <td>156.46</td>\n",
       "      <td>A</td>\n",
       "      <td>A4</td>\n",
       "      <td>3</td>\n",
       "      <td>RENT</td>\n",
       "      <td>...</td>\n",
       "      <td>Dec-11</td>\n",
       "      <td>Fully Paid</td>\n",
       "      <td>wedding</td>\n",
       "      <td>11.20</td>\n",
       "      <td>Nov-04</td>\n",
       "      <td>3</td>\n",
       "      <td>9</td>\n",
       "      <td>0</td>\n",
       "      <td>28.3</td>\n",
       "      <td>12</td>\n",
       "    </tr>\n",
       "  </tbody>\n",
       "</table>\n",
       "<p>5 rows × 22 columns</p>\n",
       "</div>"
      ],
      "text/plain": [
       "   loan_amnt  funded_amnt  funded_amnt_inv        term  int_rate  installment  \\\n",
       "0       5000         5000           4975.0   36 months     10.65       162.87   \n",
       "1       2500         2500           2500.0   60 months     15.27        59.83   \n",
       "2       2400         2400           2400.0   36 months     15.96        84.33   \n",
       "3      10000        10000          10000.0   36 months     13.49       339.31   \n",
       "5       5000         5000           5000.0   36 months      7.90       156.46   \n",
       "\n",
       "  grade sub_grade  emp_length home_ownership  ...  issue_d  loan_status  \\\n",
       "0     B        B2          10           RENT  ...   Dec-11   Fully Paid   \n",
       "1     C        C4           0           RENT  ...   Dec-11  Charged Off   \n",
       "2     C        C5          10           RENT  ...   Dec-11   Fully Paid   \n",
       "3     C        C1          10           RENT  ...   Dec-11   Fully Paid   \n",
       "5     A        A4           3           RENT  ...   Dec-11   Fully Paid   \n",
       "\n",
       "          purpose    dti earliest_cr_line  inq_last_6mths open_acc  pub_rec  \\\n",
       "0     credit_card  27.65           Jan-85               1        3        0   \n",
       "1             car   1.00           Apr-99               5        3        0   \n",
       "2  small_business   8.72           Nov-01               2        2        0   \n",
       "3           other  20.00           Feb-96               1       10        0   \n",
       "5         wedding  11.20           Nov-04               3        9        0   \n",
       "\n",
       "   revol_util  total_acc  \n",
       "0        83.7          9  \n",
       "1         9.4          4  \n",
       "2        98.5         10  \n",
       "3        21.0         37  \n",
       "5        28.3         12  \n",
       "\n",
       "[5 rows x 22 columns]"
      ]
     },
     "execution_count": 234,
     "metadata": {},
     "output_type": "execute_result"
    }
   ],
   "source": [
    "#Printing loan_data head\n",
    "loan_data.head()"
   ]
  },
  {
   "cell_type": "code",
   "execution_count": 235,
   "id": "8fdad5c2-60c8-49c0-b137-af86180d6f88",
   "metadata": {},
   "outputs": [
    {
     "data": {
      "image/png": "[encoded data removed]",
      "text/plain": [
       "<Figure size 640x480 with 1 Axes>"
      ]
     },
     "metadata": {},
     "output_type": "display_data"
    }
   ],
   "source": [
    "#Analyzing another categorical column home_ownership \n",
    "custom_colours = [\"red\",\"green\",\"blue\",\"orange\"]\n",
    "sns.countplot(x =\"home_ownership\" , data = loan_data[loan_data.loan_status ==\"Charged Off\"],palette =custom_colours)\n",
    "plt.show()"
   ]
  },
  {
   "cell_type": "markdown",
   "id": "e9b18a13-c8a8-4206-b42f-2a1edf7660ed",
   "metadata": {},
   "source": [
    "__Above plot shows that customers with RENT as home ownership have the high chance of Default__ "
   ]
  },
  {
   "cell_type": "code",
   "execution_count": 236,
   "id": "21075955-da37-4176-a696-cbe1017f8faa",
   "metadata": {},
   "outputs": [
    {
     "data": {
      "image/png": "[encoded data removed]",
      "text/plain": [
       "<Figure size 640x480 with 1 Axes>"
      ]
     },
     "metadata": {},
     "output_type": "display_data"
    }
   ],
   "source": [
    "#Analyzing another categorical column Purpose \n",
    "custom_colours = [\"red\",\"green\",\"blue\",\"orange\"]\n",
    "sns.countplot(y =\"purpose\" , data = loan_data[loan_data.loan_status ==\"Charged Off\"],palette =custom_colours)\n",
    "plt.show()"
   ]
  },
  {
   "cell_type": "markdown",
   "id": "3136d815-19d9-458b-bb85-e63b36571a4e",
   "metadata": {},
   "source": [
    "__The above purpose plot indicates customers with debt_consolidation , ie using a new loan to close the existing loans have a high chance of being defaulted__"
   ]
  },
  {
   "cell_type": "code",
   "execution_count": 237,
   "id": "f2ef77d8-8fa7-4b37-ae4a-84475fbd41b0",
   "metadata": {},
   "outputs": [
    {
     "data": {
      "text/plain": [
       "count    36641.000000\n",
       "mean        11.883025\n",
       "std          3.666330\n",
       "min          5.420000\n",
       "25%          8.940000\n",
       "50%         11.710000\n",
       "75%         14.270000\n",
       "max         24.400000\n",
       "Name: int_rate, dtype: float64"
      ]
     },
     "execution_count": 237,
     "metadata": {},
     "output_type": "execute_result"
    }
   ],
   "source": [
    "#Checking the interest values to create the lables for creating a range\n",
    "loan_data['int_rate'].describe()"
   ]
  },
  {
   "cell_type": "code",
   "execution_count": 238,
   "id": "7edf21da-1a13-476b-b735-a533dac5428f",
   "metadata": {},
   "outputs": [],
   "source": [
    "#Create group range column for interest rates and find which interest rate have the high chance of default\n",
    "# from above describe interest rate is begtween 5 to 24 , Dividing to 5 bins.\n",
    "\n",
    "loan_data[\"int_rate_range\"] = pd.cut(loan_data[\"int_rate\"] , bins=5 ,precision =0 , labels = [\"5%-9%\" ,\"9%-13%\",\"13%-17%\",\"17%-21%\" ,\"21%-25%\"])"
   ]
  },
  {
   "cell_type": "code",
   "execution_count": 239,
   "id": "b88d43c2-413e-43df-8d38-b4465ae40ed3",
   "metadata": {},
   "outputs": [
    {
     "data": {
      "image/png": "[encoded data removed]",
      "text/plain": [
       "<Figure size 640x480 with 1 Axes>"
      ]
     },
     "metadata": {},
     "output_type": "display_data"
    }
   ],
   "source": [
    "#Plotting interest range\n",
    "custom_colours = [\"red\",\"green\",\"blue\",\"orange\"]\n",
    "sns.countplot(x =\"int_rate_range\" , data = loan_data[loan_data.loan_status ==\"Charged Off\"],palette =custom_colours)\n",
    "plt.show()"
   ]
  },
  {
   "cell_type": "markdown",
   "id": "b3b515f7-f9cd-4cc7-ac6d-fb5650f82851",
   "metadata": {},
   "source": [
    "__Above graph indicates customers with interest range between 13%-17% have a high chance of being Default__"
   ]
  },
  {
   "cell_type": "code",
   "execution_count": 240,
   "id": "5ffe4695-8812-4206-abf3-8b2da48ace00",
   "metadata": {},
   "outputs": [
    {
     "data": {
      "text/html": [
       "<div>\n",
       "<style scoped>\n",
       "    .dataframe tbody tr th:only-of-type {\n",
       "        vertical-align: middle;\n",
       "    }\n",
       "\n",
       "    .dataframe tbody tr th {\n",
       "        vertical-align: top;\n",
       "    }\n",
       "\n",
       "    .dataframe thead th {\n",
       "        text-align: right;\n",
       "    }\n",
       "</style>\n",
       "<table border=\"1\" class=\"dataframe\">\n",
       "  <thead>\n",
       "    <tr style=\"text-align: right;\">\n",
       "      <th></th>\n",
       "      <th>loan_amnt</th>\n",
       "      <th>funded_amnt</th>\n",
       "      <th>funded_amnt_inv</th>\n",
       "      <th>term</th>\n",
       "      <th>int_rate</th>\n",
       "      <th>installment</th>\n",
       "      <th>grade</th>\n",
       "      <th>sub_grade</th>\n",
       "      <th>emp_length</th>\n",
       "      <th>home_ownership</th>\n",
       "      <th>...</th>\n",
       "      <th>loan_status</th>\n",
       "      <th>purpose</th>\n",
       "      <th>dti</th>\n",
       "      <th>earliest_cr_line</th>\n",
       "      <th>inq_last_6mths</th>\n",
       "      <th>open_acc</th>\n",
       "      <th>pub_rec</th>\n",
       "      <th>revol_util</th>\n",
       "      <th>total_acc</th>\n",
       "      <th>int_rate_range</th>\n",
       "    </tr>\n",
       "  </thead>\n",
       "  <tbody>\n",
       "    <tr>\n",
       "      <th>0</th>\n",
       "      <td>5000</td>\n",
       "      <td>5000</td>\n",
       "      <td>4975.0</td>\n",
       "      <td>36 months</td>\n",
       "      <td>10.65</td>\n",
       "      <td>162.87</td>\n",
       "      <td>B</td>\n",
       "      <td>B2</td>\n",
       "      <td>10</td>\n",
       "      <td>RENT</td>\n",
       "      <td>...</td>\n",
       "      <td>Fully Paid</td>\n",
       "      <td>credit_card</td>\n",
       "      <td>27.65</td>\n",
       "      <td>Jan-85</td>\n",
       "      <td>1</td>\n",
       "      <td>3</td>\n",
       "      <td>0</td>\n",
       "      <td>83.7</td>\n",
       "      <td>9</td>\n",
       "      <td>9%-13%</td>\n",
       "    </tr>\n",
       "    <tr>\n",
       "      <th>1</th>\n",
       "      <td>2500</td>\n",
       "      <td>2500</td>\n",
       "      <td>2500.0</td>\n",
       "      <td>60 months</td>\n",
       "      <td>15.27</td>\n",
       "      <td>59.83</td>\n",
       "      <td>C</td>\n",
       "      <td>C4</td>\n",
       "      <td>0</td>\n",
       "      <td>RENT</td>\n",
       "      <td>...</td>\n",
       "      <td>Charged Off</td>\n",
       "      <td>car</td>\n",
       "      <td>1.00</td>\n",
       "      <td>Apr-99</td>\n",
       "      <td>5</td>\n",
       "      <td>3</td>\n",
       "      <td>0</td>\n",
       "      <td>9.4</td>\n",
       "      <td>4</td>\n",
       "      <td>13%-17%</td>\n",
       "    </tr>\n",
       "    <tr>\n",
       "      <th>2</th>\n",
       "      <td>2400</td>\n",
       "      <td>2400</td>\n",
       "      <td>2400.0</td>\n",
       "      <td>36 months</td>\n",
       "      <td>15.96</td>\n",
       "      <td>84.33</td>\n",
       "      <td>C</td>\n",
       "      <td>C5</td>\n",
       "      <td>10</td>\n",
       "      <td>RENT</td>\n",
       "      <td>...</td>\n",
       "      <td>Fully Paid</td>\n",
       "      <td>small_business</td>\n",
       "      <td>8.72</td>\n",
       "      <td>Nov-01</td>\n",
       "      <td>2</td>\n",
       "      <td>2</td>\n",
       "      <td>0</td>\n",
       "      <td>98.5</td>\n",
       "      <td>10</td>\n",
       "      <td>13%-17%</td>\n",
       "    </tr>\n",
       "    <tr>\n",
       "      <th>3</th>\n",
       "      <td>10000</td>\n",
       "      <td>10000</td>\n",
       "      <td>10000.0</td>\n",
       "      <td>36 months</td>\n",
       "      <td>13.49</td>\n",
       "      <td>339.31</td>\n",
       "      <td>C</td>\n",
       "      <td>C1</td>\n",
       "      <td>10</td>\n",
       "      <td>RENT</td>\n",
       "      <td>...</td>\n",
       "      <td>Fully Paid</td>\n",
       "      <td>other</td>\n",
       "      <td>20.00</td>\n",
       "      <td>Feb-96</td>\n",
       "      <td>1</td>\n",
       "      <td>10</td>\n",
       "      <td>0</td>\n",
       "      <td>21.0</td>\n",
       "      <td>37</td>\n",
       "      <td>13%-17%</td>\n",
       "    </tr>\n",
       "    <tr>\n",
       "      <th>5</th>\n",
       "      <td>5000</td>\n",
       "      <td>5000</td>\n",
       "      <td>5000.0</td>\n",
       "      <td>36 months</td>\n",
       "      <td>7.90</td>\n",
       "      <td>156.46</td>\n",
       "      <td>A</td>\n",
       "      <td>A4</td>\n",
       "      <td>3</td>\n",
       "      <td>RENT</td>\n",
       "      <td>...</td>\n",
       "      <td>Fully Paid</td>\n",
       "      <td>wedding</td>\n",
       "      <td>11.20</td>\n",
       "      <td>Nov-04</td>\n",
       "      <td>3</td>\n",
       "      <td>9</td>\n",
       "      <td>0</td>\n",
       "      <td>28.3</td>\n",
       "      <td>12</td>\n",
       "      <td>5%-9%</td>\n",
       "    </tr>\n",
       "  </tbody>\n",
       "</table>\n",
       "<p>5 rows × 23 columns</p>\n",
       "</div>"
      ],
      "text/plain": [
       "   loan_amnt  funded_amnt  funded_amnt_inv        term  int_rate  installment  \\\n",
       "0       5000         5000           4975.0   36 months     10.65       162.87   \n",
       "1       2500         2500           2500.0   60 months     15.27        59.83   \n",
       "2       2400         2400           2400.0   36 months     15.96        84.33   \n",
       "3      10000        10000          10000.0   36 months     13.49       339.31   \n",
       "5       5000         5000           5000.0   36 months      7.90       156.46   \n",
       "\n",
       "  grade sub_grade  emp_length home_ownership  ...  loan_status  \\\n",
       "0     B        B2          10           RENT  ...   Fully Paid   \n",
       "1     C        C4           0           RENT  ...  Charged Off   \n",
       "2     C        C5          10           RENT  ...   Fully Paid   \n",
       "3     C        C1          10           RENT  ...   Fully Paid   \n",
       "5     A        A4           3           RENT  ...   Fully Paid   \n",
       "\n",
       "          purpose    dti earliest_cr_line inq_last_6mths  open_acc pub_rec  \\\n",
       "0     credit_card  27.65           Jan-85              1         3       0   \n",
       "1             car   1.00           Apr-99              5         3       0   \n",
       "2  small_business   8.72           Nov-01              2         2       0   \n",
       "3           other  20.00           Feb-96              1        10       0   \n",
       "5         wedding  11.20           Nov-04              3         9       0   \n",
       "\n",
       "   revol_util  total_acc  int_rate_range  \n",
       "0        83.7          9          9%-13%  \n",
       "1         9.4          4         13%-17%  \n",
       "2        98.5         10         13%-17%  \n",
       "3        21.0         37         13%-17%  \n",
       "5        28.3         12           5%-9%  \n",
       "\n",
       "[5 rows x 23 columns]"
      ]
     },
     "execution_count": 240,
     "metadata": {},
     "output_type": "execute_result"
    }
   ],
   "source": [
    "#Priting Data head to analyze further data\n",
    "loan_data.head()"
   ]
  },
  {
   "cell_type": "code",
   "execution_count": 241,
   "id": "ea5041da-1aa1-4d37-918e-184b13ba9869",
   "metadata": {},
   "outputs": [
    {
     "data": {
      "image/png": "[encoded data removed]",
      "text/plain": [
       "<Figure size 640x480 with 1 Axes>"
      ]
     },
     "metadata": {},
     "output_type": "display_data"
    }
   ],
   "source": [
    "#Analysing Term and Employee Length\n",
    "\n",
    "#Plotting Term\n",
    "\n",
    "custom_colours = [\"red\",\"green\"]\n",
    "sns.countplot(x =\"term\" , data = loan_data[loan_data.loan_status ==\"Charged Off\"],palette =custom_colours)\n",
    "plt.show()"
   ]
  },
  {
   "cell_type": "markdown",
   "id": "d60ef399-4a8d-4219-aa3d-4d7c4d1db936",
   "metadata": {},
   "source": [
    "__Applicants with term 36 months have high chance of being defaulted__"
   ]
  },
  {
   "cell_type": "code",
   "execution_count": 242,
   "id": "e8642692-ad7d-4e42-8b77-18728411af19",
   "metadata": {},
   "outputs": [
    {
     "data": {
      "image/png": "[encoded data removed]",
      "text/plain": [
       "<Figure size 640x480 with 1 Axes>"
      ]
     },
     "metadata": {},
     "output_type": "display_data"
    }
   ],
   "source": [
    "#Plotting Employee length\n",
    "custom_colours = [\"red\",\"green\",\"blue\",\"yellow\"]\n",
    "sns.countplot(x =\"emp_length\" , data = loan_data[loan_data.loan_status ==\"Charged Off\"],palette =custom_colours)\n",
    "plt.show()"
   ]
  },
  {
   "cell_type": "markdown",
   "id": "a791ef44-8429-4544-95c3-d114105755b4",
   "metadata": {},
   "source": [
    "__Applicants with employee length 10 have the high chance of being defaulted__"
   ]
  },
  {
   "cell_type": "code",
   "execution_count": 243,
   "id": "ba5ec7fb-0276-4f76-948b-2a04fe75ea1f",
   "metadata": {},
   "outputs": [
    {
     "data": {
      "text/plain": [
       "Index(['loan_amnt', 'funded_amnt', 'funded_amnt_inv', 'term', 'int_rate',\n",
       "       'installment', 'grade', 'sub_grade', 'emp_length', 'home_ownership',\n",
       "       'annual_inc', 'verification_status', 'issue_d', 'loan_status',\n",
       "       'purpose', 'dti', 'earliest_cr_line', 'inq_last_6mths', 'open_acc',\n",
       "       'pub_rec', 'revol_util', 'total_acc', 'int_rate_range'],\n",
       "      dtype='object')"
      ]
     },
     "execution_count": 243,
     "metadata": {},
     "output_type": "execute_result"
    }
   ],
   "source": [
    "#printing the columns\n",
    "loan_data.columns"
   ]
  },
  {
   "cell_type": "code",
   "execution_count": 244,
   "id": "b906a662-9f5e-41b2-bebf-1c39275d9504",
   "metadata": {},
   "outputs": [
    {
     "data": {
      "image/png": "[encoded data removed]",
      "text/plain": [
       "<Figure size 640x480 with 1 Axes>"
      ]
     },
     "metadata": {},
     "output_type": "display_data"
    }
   ],
   "source": [
    "#Analyzing verification status\n",
    "custom_colours = [\"red\",\"green\",\"blue\"]\n",
    "sns.countplot(x =\"verification_status\" , data = loan_data[loan_data.loan_status ==\"Charged Off\"],palette =custom_colours)\n",
    "plt.show()"
   ]
  },
  {
   "cell_type": "markdown",
   "id": "11650207-ce71-416e-9cbb-63b8a5292b93",
   "metadata": {},
   "source": [
    "__Above Data indicate Not Verfified Applicants have a high chance of becoming Defaulted__"
   ]
  },
  {
   "cell_type": "code",
   "execution_count": 245,
   "id": "c24d5e2a-5075-4478-b92f-01a75b97559a",
   "metadata": {},
   "outputs": [
    {
     "data": {
      "text/plain": [
       "count    36641.000000\n",
       "mean     10693.452007\n",
       "std       7050.904944\n",
       "min        500.000000\n",
       "25%       5000.000000\n",
       "50%       9250.000000\n",
       "75%      15000.000000\n",
       "max      35000.000000\n",
       "Name: loan_amnt, dtype: float64"
      ]
     },
     "execution_count": 245,
     "metadata": {},
     "output_type": "execute_result"
    }
   ],
   "source": [
    "#Checking the range Loan amount\n",
    "loan_data['loan_amnt'].describe()"
   ]
  },
  {
   "cell_type": "code",
   "execution_count": 246,
   "id": "def390b8-52c9-4f43-b33b-e93975d2130e",
   "metadata": {},
   "outputs": [
    {
     "data": {
      "text/plain": [
       "count    36641.000000\n",
       "mean      9905.201326\n",
       "std       6732.529294\n",
       "min          0.000000\n",
       "25%       4989.311356\n",
       "50%       8400.000000\n",
       "75%      13650.000000\n",
       "max      35000.000000\n",
       "Name: funded_amnt_inv, dtype: float64"
      ]
     },
     "execution_count": 246,
     "metadata": {},
     "output_type": "execute_result"
    }
   ],
   "source": [
    "#Checking the range funded amount by investor\n",
    "loan_data['funded_amnt_inv'].describe()"
   ]
  },
  {
   "cell_type": "code",
   "execution_count": 247,
   "id": "ce04047a-a5e4-4808-8f14-7af93bd3aa10",
   "metadata": {},
   "outputs": [
    {
     "data": {
      "text/plain": [
       "count    36641.000000\n",
       "mean       312.180664\n",
       "std        199.279141\n",
       "min         15.690000\n",
       "25%        163.110000\n",
       "50%        271.000000\n",
       "75%        408.920000\n",
       "max       1305.190000\n",
       "Name: installment, dtype: float64"
      ]
     },
     "execution_count": 247,
     "metadata": {},
     "output_type": "execute_result"
    }
   ],
   "source": [
    "#Checking the range for installment\n",
    "loan_data['installment'].describe()"
   ]
  },
  {
   "cell_type": "code",
   "execution_count": 248,
   "id": "4ede36ae-480e-4f91-bf9a-d67162fbe30a",
   "metadata": {},
   "outputs": [],
   "source": [
    "#Creating Loan Amount range , installment_range and funded amount investor range\n",
    "loan_data[\"loan_amnt_range\"] = pd.cut(loan_data[\"loan_amnt\"] , bins =9 ,precision =0 ,labels = [\"0-4k\" ,\"4k-8k\" ,\"8k-12k\" ,\"12K-16K\" ,\"16K-20K\" ,\"20K-24K\",\"24K-28K\",\"28K-32K\",\"32K-36K\"])\n",
    "loan_data[\"funded_amnt_range\"] = pd.cut(loan_data[\"funded_amnt_inv\"] , bins =9 ,precision =0 ,labels = [\"0-4k\" ,\"4k-8k\" ,\"8k-12k\" ,\"12K-16K\" ,\"16K-20K\" ,\"20K-24K\",\"24K-28K\",\"28K-32K\",\"32K-36K\"])\n",
    "loan_data[\"installment_range\"] = pd.cut(loan_data[\"installment\"] , bins =10 ,precision =0 ,labels = [\"15-150\" ,\"150-300\" ,\"300-450\" ,\"450-600\" ,\"600-750\",\"750-900\" ,\"900-1050\",\"1050-1200\",\"1200-1350\",\"1350-1500\"])"
   ]
  },
  {
   "cell_type": "code",
   "execution_count": 249,
   "id": "4225770c-0a48-477b-ae26-2df87eaf5da2",
   "metadata": {},
   "outputs": [
    {
     "data": {
      "text/html": [
       "<div>\n",
       "<style scoped>\n",
       "    .dataframe tbody tr th:only-of-type {\n",
       "        vertical-align: middle;\n",
       "    }\n",
       "\n",
       "    .dataframe tbody tr th {\n",
       "        vertical-align: top;\n",
       "    }\n",
       "\n",
       "    .dataframe thead th {\n",
       "        text-align: right;\n",
       "    }\n",
       "</style>\n",
       "<table border=\"1\" class=\"dataframe\">\n",
       "  <thead>\n",
       "    <tr style=\"text-align: right;\">\n",
       "      <th></th>\n",
       "      <th>loan_amnt</th>\n",
       "      <th>funded_amnt</th>\n",
       "      <th>funded_amnt_inv</th>\n",
       "      <th>term</th>\n",
       "      <th>int_rate</th>\n",
       "      <th>installment</th>\n",
       "      <th>grade</th>\n",
       "      <th>sub_grade</th>\n",
       "      <th>emp_length</th>\n",
       "      <th>home_ownership</th>\n",
       "      <th>...</th>\n",
       "      <th>earliest_cr_line</th>\n",
       "      <th>inq_last_6mths</th>\n",
       "      <th>open_acc</th>\n",
       "      <th>pub_rec</th>\n",
       "      <th>revol_util</th>\n",
       "      <th>total_acc</th>\n",
       "      <th>int_rate_range</th>\n",
       "      <th>loan_amnt_range</th>\n",
       "      <th>funded_amnt_range</th>\n",
       "      <th>installment_range</th>\n",
       "    </tr>\n",
       "  </thead>\n",
       "  <tbody>\n",
       "    <tr>\n",
       "      <th>0</th>\n",
       "      <td>5000</td>\n",
       "      <td>5000</td>\n",
       "      <td>4975.0</td>\n",
       "      <td>36 months</td>\n",
       "      <td>10.65</td>\n",
       "      <td>162.87</td>\n",
       "      <td>B</td>\n",
       "      <td>B2</td>\n",
       "      <td>10</td>\n",
       "      <td>RENT</td>\n",
       "      <td>...</td>\n",
       "      <td>Jan-85</td>\n",
       "      <td>1</td>\n",
       "      <td>3</td>\n",
       "      <td>0</td>\n",
       "      <td>83.7</td>\n",
       "      <td>9</td>\n",
       "      <td>9%-13%</td>\n",
       "      <td>4k-8k</td>\n",
       "      <td>4k-8k</td>\n",
       "      <td>150-300</td>\n",
       "    </tr>\n",
       "    <tr>\n",
       "      <th>1</th>\n",
       "      <td>2500</td>\n",
       "      <td>2500</td>\n",
       "      <td>2500.0</td>\n",
       "      <td>60 months</td>\n",
       "      <td>15.27</td>\n",
       "      <td>59.83</td>\n",
       "      <td>C</td>\n",
       "      <td>C4</td>\n",
       "      <td>0</td>\n",
       "      <td>RENT</td>\n",
       "      <td>...</td>\n",
       "      <td>Apr-99</td>\n",
       "      <td>5</td>\n",
       "      <td>3</td>\n",
       "      <td>0</td>\n",
       "      <td>9.4</td>\n",
       "      <td>4</td>\n",
       "      <td>13%-17%</td>\n",
       "      <td>0-4k</td>\n",
       "      <td>0-4k</td>\n",
       "      <td>15-150</td>\n",
       "    </tr>\n",
       "    <tr>\n",
       "      <th>2</th>\n",
       "      <td>2400</td>\n",
       "      <td>2400</td>\n",
       "      <td>2400.0</td>\n",
       "      <td>36 months</td>\n",
       "      <td>15.96</td>\n",
       "      <td>84.33</td>\n",
       "      <td>C</td>\n",
       "      <td>C5</td>\n",
       "      <td>10</td>\n",
       "      <td>RENT</td>\n",
       "      <td>...</td>\n",
       "      <td>Nov-01</td>\n",
       "      <td>2</td>\n",
       "      <td>2</td>\n",
       "      <td>0</td>\n",
       "      <td>98.5</td>\n",
       "      <td>10</td>\n",
       "      <td>13%-17%</td>\n",
       "      <td>0-4k</td>\n",
       "      <td>0-4k</td>\n",
       "      <td>15-150</td>\n",
       "    </tr>\n",
       "    <tr>\n",
       "      <th>3</th>\n",
       "      <td>10000</td>\n",
       "      <td>10000</td>\n",
       "      <td>10000.0</td>\n",
       "      <td>36 months</td>\n",
       "      <td>13.49</td>\n",
       "      <td>339.31</td>\n",
       "      <td>C</td>\n",
       "      <td>C1</td>\n",
       "      <td>10</td>\n",
       "      <td>RENT</td>\n",
       "      <td>...</td>\n",
       "      <td>Feb-96</td>\n",
       "      <td>1</td>\n",
       "      <td>10</td>\n",
       "      <td>0</td>\n",
       "      <td>21.0</td>\n",
       "      <td>37</td>\n",
       "      <td>13%-17%</td>\n",
       "      <td>8k-12k</td>\n",
       "      <td>8k-12k</td>\n",
       "      <td>300-450</td>\n",
       "    </tr>\n",
       "    <tr>\n",
       "      <th>5</th>\n",
       "      <td>5000</td>\n",
       "      <td>5000</td>\n",
       "      <td>5000.0</td>\n",
       "      <td>36 months</td>\n",
       "      <td>7.90</td>\n",
       "      <td>156.46</td>\n",
       "      <td>A</td>\n",
       "      <td>A4</td>\n",
       "      <td>3</td>\n",
       "      <td>RENT</td>\n",
       "      <td>...</td>\n",
       "      <td>Nov-04</td>\n",
       "      <td>3</td>\n",
       "      <td>9</td>\n",
       "      <td>0</td>\n",
       "      <td>28.3</td>\n",
       "      <td>12</td>\n",
       "      <td>5%-9%</td>\n",
       "      <td>4k-8k</td>\n",
       "      <td>4k-8k</td>\n",
       "      <td>150-300</td>\n",
       "    </tr>\n",
       "  </tbody>\n",
       "</table>\n",
       "<p>5 rows × 26 columns</p>\n",
       "</div>"
      ],
      "text/plain": [
       "   loan_amnt  funded_amnt  funded_amnt_inv        term  int_rate  installment  \\\n",
       "0       5000         5000           4975.0   36 months     10.65       162.87   \n",
       "1       2500         2500           2500.0   60 months     15.27        59.83   \n",
       "2       2400         2400           2400.0   36 months     15.96        84.33   \n",
       "3      10000        10000          10000.0   36 months     13.49       339.31   \n",
       "5       5000         5000           5000.0   36 months      7.90       156.46   \n",
       "\n",
       "  grade sub_grade  emp_length home_ownership  ...  earliest_cr_line  \\\n",
       "0     B        B2          10           RENT  ...            Jan-85   \n",
       "1     C        C4           0           RENT  ...            Apr-99   \n",
       "2     C        C5          10           RENT  ...            Nov-01   \n",
       "3     C        C1          10           RENT  ...            Feb-96   \n",
       "5     A        A4           3           RENT  ...            Nov-04   \n",
       "\n",
       "  inq_last_6mths open_acc pub_rec revol_util  total_acc int_rate_range  \\\n",
       "0              1        3       0       83.7          9         9%-13%   \n",
       "1              5        3       0        9.4          4        13%-17%   \n",
       "2              2        2       0       98.5         10        13%-17%   \n",
       "3              1       10       0       21.0         37        13%-17%   \n",
       "5              3        9       0       28.3         12          5%-9%   \n",
       "\n",
       "   loan_amnt_range  funded_amnt_range  installment_range  \n",
       "0            4k-8k              4k-8k            150-300  \n",
       "1             0-4k               0-4k             15-150  \n",
       "2             0-4k               0-4k             15-150  \n",
       "3           8k-12k             8k-12k            300-450  \n",
       "5            4k-8k              4k-8k            150-300  \n",
       "\n",
       "[5 rows x 26 columns]"
      ]
     },
     "execution_count": 249,
     "metadata": {},
     "output_type": "execute_result"
    }
   ],
   "source": [
    "#printing to check the new columns\n",
    "loan_data.head()"
   ]
  },
  {
   "cell_type": "code",
   "execution_count": 250,
   "id": "e2675d91-efe0-47f6-884e-63cdf3ebf2f6",
   "metadata": {},
   "outputs": [
    {
     "data": {
      "image/png": "[encoded data removed]",
      "text/plain": [
       "<Figure size 640x480 with 1 Axes>"
      ]
     },
     "metadata": {},
     "output_type": "display_data"
    },
    {
     "data": {
      "image/png": "[encoded data removed]",
      "text/plain": [
       "<Figure size 640x480 with 1 Axes>"
      ]
     },
     "metadata": {},
     "output_type": "display_data"
    },
    {
     "data": {
      "image/png": "[encoded data removed]",
      "text/plain": [
       "<Figure size 640x480 with 1 Axes>"
      ]
     },
     "metadata": {},
     "output_type": "display_data"
    }
   ],
   "source": [
    "#Plotting loan_amnt_range , funded_amnt_range and installment_range\n",
    "custom_colours = [\"red\",\"green\",\"blue\"]\n",
    "sns.countplot(x =\"loan_amnt_range\" , data = loan_data[loan_data.loan_status ==\"Charged Off\"],palette =custom_colours)\n",
    "plt.show()\n",
    "\n",
    "sns.countplot(x =\"funded_amnt_range\" , data = loan_data[loan_data.loan_status ==\"Charged Off\"],palette =custom_colours)\n",
    "plt.show()\n",
    "\n",
    "sns.countplot(x =\"installment_range\" , data = loan_data[loan_data.loan_status ==\"Charged Off\"],palette =custom_colours)\n",
    "plt.show()"
   ]
  },
  {
   "cell_type": "markdown",
   "id": "d5e0b50f-d93f-4785-b3b1-211aa9c0ad87",
   "metadata": {},
   "source": [
    "__Loan amount between 4K-8K have the high range of being defaulted__  \n",
    "\n",
    "__Funded_amount_inv in the range of 4K-8K have the high chance of being defaulted__ \n",
    "\n",
    "__installent in the range if 150-300 have the high chance of being defaulted__  "
   ]
  },
  {
   "cell_type": "code",
   "execution_count": 251,
   "id": "278cbee2-0a48-4b6f-bf92-b12dbc9ad734",
   "metadata": {},
   "outputs": [
    {
     "data": {
      "text/plain": [
       "count    36641.000000\n",
       "mean        13.447051\n",
       "std          6.660728\n",
       "min          0.000000\n",
       "25%          8.350000\n",
       "50%         13.570000\n",
       "75%         18.720000\n",
       "max         29.990000\n",
       "Name: dti, dtype: float64"
      ]
     },
     "execution_count": 251,
     "metadata": {},
     "output_type": "execute_result"
    }
   ],
   "source": [
    "#analyzing dti by creating the range \n",
    "#Checking the DTI describe output to understand the range\n",
    "loan_data[\"dti\"].describe()"
   ]
  },
  {
   "cell_type": "code",
   "execution_count": 252,
   "id": "5f6b8e2b-8333-4423-a499-40c27a1fde73",
   "metadata": {},
   "outputs": [],
   "source": [
    "#Creating range for dti\n",
    "loan_data[\"dti_range\"] = pd.cut(loan_data[\"dti\"] , bins =10 ,precision =0 ,labels = [\"0-3\",\"3-6\",\"6-9\",\"9-12\",\"12-15\",\"15-18\",\"18-21\",\"21-24\",\"24-27\",\"27-30\"])"
   ]
  },
  {
   "cell_type": "code",
   "execution_count": 253,
   "id": "994bfb12-3774-4ae8-978d-f26f9f08288f",
   "metadata": {},
   "outputs": [
    {
     "data": {
      "image/png": "[encoded data removed]",
      "text/plain": [
       "<Figure size 640x480 with 1 Axes>"
      ]
     },
     "metadata": {},
     "output_type": "display_data"
    }
   ],
   "source": [
    "#Plotting dti range\n",
    "custom_colours = [\"red\",\"green\",\"blue\",\"purple\",\"yellow\"]\n",
    "sns.countplot(x =\"dti_range\" , data = loan_data[loan_data.loan_status ==\"Charged Off\"],palette =custom_colours)\n",
    "plt.show()"
   ]
  },
  {
   "cell_type": "markdown",
   "id": "0e8e33a9-06f5-4756-b9b0-3ee4e0aadc50",
   "metadata": {},
   "source": [
    "__dti range of 12-15 have the high chance of being defaulted__"
   ]
  },
  {
   "cell_type": "code",
   "execution_count": 254,
   "id": "a12ab0c3-837b-4edf-a350-61c63fa37243",
   "metadata": {},
   "outputs": [
    {
     "data": {
      "text/plain": [
       "count     36641.000000\n",
       "mean      60967.445958\n",
       "std       27839.347748\n",
       "min        4000.000000\n",
       "25%       40000.000000\n",
       "50%       56000.000000\n",
       "75%       78000.000000\n",
       "max      142000.000000\n",
       "Name: annual_inc, dtype: float64"
      ]
     },
     "execution_count": 254,
     "metadata": {},
     "output_type": "execute_result"
    }
   ],
   "source": [
    "#Analyzing Applicants annual income range\n",
    "#Creating range for annual income\n",
    "\n",
    "loan_data[\"annual_inc\"].describe()\n"
   ]
  },
  {
   "cell_type": "code",
   "execution_count": 255,
   "id": "1a627ff6-e7ac-4fba-8f97-293855277f14",
   "metadata": {},
   "outputs": [],
   "source": [
    "#Creating bin range for Annual income \n",
    "loan_data[\"annual_income_range\"] = pd.cut(loan_data[\"annual_inc\"] , bins =9 ,precision =0 ,labels = [\"4K-20K\" ,\"20k-36K\" ,\"36k-52k\" ,\"52K-68K\" ,\"68K-84K\" ,\"84K-100K\",\"100K-116K\",\"116K-132K\",\"132K-148K\"])"
   ]
  },
  {
   "cell_type": "code",
   "execution_count": 256,
   "id": "b33e2660-6792-4827-aaba-126349751c78",
   "metadata": {},
   "outputs": [
    {
     "data": {
      "image/png": "[encoded data removed]",
      "text/plain": [
       "<Figure size 640x480 with 1 Axes>"
      ]
     },
     "metadata": {},
     "output_type": "display_data"
    }
   ],
   "source": [
    "#Plotting annual_income_range\n",
    "custom_colours = [\"red\",\"green\",\"blue\",\"purple\",\"yellow\"]\n",
    "sns.countplot(x =\"annual_income_range\" , data = loan_data[loan_data.loan_status ==\"Charged Off\"],palette =custom_colours)\n",
    "plt.show()"
   ]
  },
  {
   "cell_type": "markdown",
   "id": "a632d08a-249f-4ce2-90e2-5f010042f753",
   "metadata": {},
   "source": [
    "__Applicants having a annual_income of range 36k-52K is having high chance of being defaulted__  "
   ]
  },
  {
   "cell_type": "code",
   "execution_count": 257,
   "id": "c8fbd494-f3e4-442c-b9ce-fb380f803a98",
   "metadata": {},
   "outputs": [
    {
     "data": {
      "text/plain": [
       "Index(['loan_amnt', 'funded_amnt', 'funded_amnt_inv', 'term', 'int_rate',\n",
       "       'installment', 'grade', 'sub_grade', 'emp_length', 'home_ownership',\n",
       "       'annual_inc', 'verification_status', 'issue_d', 'loan_status',\n",
       "       'purpose', 'dti', 'earliest_cr_line', 'inq_last_6mths', 'open_acc',\n",
       "       'pub_rec', 'revol_util', 'total_acc', 'int_rate_range',\n",
       "       'loan_amnt_range', 'funded_amnt_range', 'installment_range',\n",
       "       'dti_range', 'annual_income_range'],\n",
       "      dtype='object')"
      ]
     },
     "execution_count": 257,
     "metadata": {},
     "output_type": "execute_result"
    }
   ],
   "source": [
    "#printing the columns\n",
    "loan_data.columns"
   ]
  },
  {
   "cell_type": "code",
   "execution_count": 258,
   "id": "4310b48c-7a73-4436-9308-b71741073a7d",
   "metadata": {},
   "outputs": [
    {
     "data": {
      "image/png": "[encoded data removed]",
      "text/plain": [
       "<Figure size 640x480 with 1 Axes>"
      ]
     },
     "metadata": {},
     "output_type": "display_data"
    }
   ],
   "source": [
    "#Analyzing inq_last_6mths column\n",
    "#Plotting inq_last_6mths\n",
    "custom_colours = [\"red\",\"green\",\"blue\",\"purple\",\"yellow\"]\n",
    "sns.countplot(x =\"inq_last_6mths\" , data = loan_data[loan_data.loan_status ==\"Charged Off\"],palette =custom_colours)\n",
    "plt.show()"
   ]
  },
  {
   "cell_type": "markdown",
   "id": "914f8dce-2cef-46e7-bf17-980a120b6c92",
   "metadata": {},
   "source": [
    "__Those applicants who have zero inquiry in last 6 monts have high chance of being defaulted__  "
   ]
  },
  {
   "cell_type": "code",
   "execution_count": 259,
   "id": "df10341e-781f-46ff-8089-4c391bdd7d62",
   "metadata": {},
   "outputs": [
    {
     "data": {
      "text/plain": [
       "count    36641.000000\n",
       "mean         9.174122\n",
       "std          4.351432\n",
       "min          2.000000\n",
       "25%          6.000000\n",
       "50%          8.000000\n",
       "75%         12.000000\n",
       "max         44.000000\n",
       "Name: open_acc, dtype: float64"
      ]
     },
     "execution_count": 259,
     "metadata": {},
     "output_type": "execute_result"
    }
   ],
   "source": [
    "#Analyzing open_accounts columns to get some insights\n",
    "\n",
    "#Creating range for open_accounts\n",
    "\n",
    "#First Describe open_acc to see the range of values\n",
    "\n",
    "loan_data[\"open_acc\"].describe()"
   ]
  },
  {
   "cell_type": "code",
   "execution_count": 260,
   "id": "e7082a6f-1002-4f35-90fa-1f112f47f03f",
   "metadata": {},
   "outputs": [],
   "source": [
    "#Creating bin range for open_acc\n",
    "loan_data[\"open_acc_range\"] = pd.cut(loan_data[\"open_acc\"] , bins =9 ,precision =0 ,labels = [\"0-5\" ,\"5-10\" ,\"10-15\" ,\"15-20\" ,\"20-25\" ,\"25-30\",\"30-35\",\"35-40\",\"40-45\"])"
   ]
  },
  {
   "cell_type": "code",
   "execution_count": 261,
   "id": "d2b95a49-d5ee-4c6f-9697-25287a7f3166",
   "metadata": {},
   "outputs": [
    {
     "data": {
      "image/png": "[encoded data removed]",
      "text/plain": [
       "<Figure size 640x480 with 1 Axes>"
      ]
     },
     "metadata": {},
     "output_type": "display_data"
    }
   ],
   "source": [
    "#Plotting open_acc_range\n",
    "custom_colours = [\"red\",\"green\",\"blue\",\"purple\",\"yellow\"]\n",
    "sns.countplot(x =\"open_acc_range\" , data = loan_data[loan_data.loan_status ==\"Charged Off\"],palette =custom_colours)\n",
    "plt.show()"
   ]
  },
  {
   "cell_type": "markdown",
   "id": "d5df4546-8007-45b7-8681-2ef422a70d0c",
   "metadata": {},
   "source": [
    "__Applicants having open accounts in the range of 5-10 have the high chance of being defaulted__ "
   ]
  },
  {
   "cell_type": "code",
   "execution_count": 262,
   "id": "4ec475ea-2ebf-40b0-847f-4dff4ab81ae6",
   "metadata": {},
   "outputs": [
    {
     "data": {
      "text/plain": [
       "Index(['loan_amnt', 'funded_amnt', 'funded_amnt_inv', 'term', 'int_rate',\n",
       "       'installment', 'grade', 'sub_grade', 'emp_length', 'home_ownership',\n",
       "       'annual_inc', 'verification_status', 'issue_d', 'loan_status',\n",
       "       'purpose', 'dti', 'earliest_cr_line', 'inq_last_6mths', 'open_acc',\n",
       "       'pub_rec', 'revol_util', 'total_acc', 'int_rate_range',\n",
       "       'loan_amnt_range', 'funded_amnt_range', 'installment_range',\n",
       "       'dti_range', 'annual_income_range', 'open_acc_range'],\n",
       "      dtype='object')"
      ]
     },
     "execution_count": 262,
     "metadata": {},
     "output_type": "execute_result"
    }
   ],
   "source": [
    "#printing the columns\n",
    "loan_data.columns"
   ]
  },
  {
   "cell_type": "code",
   "execution_count": 263,
   "id": "ed681968-3987-4b0b-810a-f493099d9b7b",
   "metadata": {},
   "outputs": [
    {
     "data": {
      "image/png": "[encoded data removed]",
      "text/plain": [
       "<Figure size 640x480 with 1 Axes>"
      ]
     },
     "metadata": {},
     "output_type": "display_data"
    }
   ],
   "source": [
    "#Analyzing pub_rec column \n",
    "\n",
    "#Plotting pub_rec \n",
    "#pub_rec explanation - Number of Derogatory public records\n",
    "custom_colours = [\"red\",\"green\",\"blue\",\"purple\"]\n",
    "sns.countplot(x =\"pub_rec\" , data = loan_data[loan_data.loan_status ==\"Charged Off\"],palette =custom_colours)\n",
    "plt.show()"
   ]
  },
  {
   "cell_type": "markdown",
   "id": "89df0a0d-b2fc-4286-bf18-69bf5217a294",
   "metadata": {},
   "source": [
    "__Data shows that when the Derogatory public records is zero there is a chance that applicant can be defaulted__ "
   ]
  },
  {
   "cell_type": "markdown",
   "id": "7eec783c-8d7b-4783-8074-233bc5750dae",
   "metadata": {},
   "source": [
    "__OBSERVATIONS ON ABOVE ANALYZED DATA__  \n",
    "\n",
    "__For the Charged off loans there is a more chance of Applicant being default is as follows__   \n",
    "\n",
    "- Applicants with grade B have a high chance of Loan Default\n",
    "\n",
    "- Applicants with RENT as home ownership have the high chance of Default\n",
    "\n",
    "- Applicants with debt_consolidation , ie using a new loan to close the existing loans have a high chance of being defaulted\n",
    "\n",
    "- Applicants with interest range between 13%-17% have a high chance of being Defaulted\n",
    "\n",
    "- Applicants with term 36 months have high chance of being defaulted\n",
    "\n",
    "- Applicants with employee length 10 have the high chance of being defaulted\n",
    "\n",
    "- Not Verfified Applicants have a high chance of becoming Defaulted\n",
    "\n",
    "- Loan amount between 4K-8K have the high range of being defaulted\n",
    "\n",
    "- Funded_amount_inv in the range of 4K-8K have the high chance of being defaulted\n",
    "\n",
    "- Installent in the range if 150-300 have the high chance of being defaulted\n",
    "\n",
    "- dti range of 12-15 have the high chance of being defaulted\n",
    "\n",
    "- Applicants having a annual_income of range 36k-52K is having high chance of being defaulted\n",
    "\n",
    "- Those applicants who have zero inquiry in last 6 monts have high chance of being defaulted\n",
    "\n",
    "- Applicants having open accounts in the range of 5-10 have the high chance of being defaulted\n",
    "\n",
    "- Applicants having Derogatory public records zero have a high chance of being defaulted\n",
    "\n",
    "\n"
   ]
  },
  {
   "cell_type": "markdown",
   "id": "9632bd05-7f48-4712-8ae2-97c652f0203a",
   "metadata": {},
   "source": [
    "## Bivariate Analysis"
   ]
  },
  {
   "cell_type": "code",
   "execution_count": 264,
   "id": "ed523e86-0e5f-42b9-b532-ddfac9d04026",
   "metadata": {},
   "outputs": [
    {
     "data": {
      "text/plain": [
       "Index(['loan_amnt', 'funded_amnt', 'funded_amnt_inv', 'term', 'int_rate',\n",
       "       'installment', 'grade', 'sub_grade', 'emp_length', 'home_ownership',\n",
       "       'annual_inc', 'verification_status', 'issue_d', 'loan_status',\n",
       "       'purpose', 'dti', 'earliest_cr_line', 'inq_last_6mths', 'open_acc',\n",
       "       'pub_rec', 'revol_util', 'total_acc', 'int_rate_range',\n",
       "       'loan_amnt_range', 'funded_amnt_range', 'installment_range',\n",
       "       'dti_range', 'annual_income_range', 'open_acc_range'],\n",
       "      dtype='object')"
      ]
     },
     "execution_count": 264,
     "metadata": {},
     "output_type": "execute_result"
    }
   ],
   "source": [
    "loan_data.columns"
   ]
  },
  {
   "cell_type": "code",
   "execution_count": 265,
   "id": "8b56bee1-9a6d-4894-9747-31476d306db0",
   "metadata": {},
   "outputs": [
    {
     "data": {
      "text/plain": [
       "(36641, 29)"
      ]
     },
     "execution_count": 265,
     "metadata": {},
     "output_type": "execute_result"
    }
   ],
   "source": [
    "loan_data.shape"
   ]
  },
  {
   "cell_type": "markdown",
   "id": "ef6c4632-cecd-48c8-84e5-fc53586b5117",
   "metadata": {},
   "source": [
    "##### Analysis on the below columns \n",
    "- loan_amnt\n",
    "- term\n",
    "- int_rate\n",
    "- installment\n",
    "- grade\n",
    "- emp_length\n",
    "- home_ownership\n",
    "- annual_inc\n",
    "- purpose"
   ]
  },
  {
   "cell_type": "code",
   "execution_count": 266,
   "id": "f7338833-3491-4171-adba-e0aa29725c67",
   "metadata": {},
   "outputs": [
    {
     "data": {
      "text/html": [
       "<div>\n",
       "<style scoped>\n",
       "    .dataframe tbody tr th:only-of-type {\n",
       "        vertical-align: middle;\n",
       "    }\n",
       "\n",
       "    .dataframe tbody tr th {\n",
       "        vertical-align: top;\n",
       "    }\n",
       "\n",
       "    .dataframe thead th {\n",
       "        text-align: right;\n",
       "    }\n",
       "</style>\n",
       "<table border=\"1\" class=\"dataframe\">\n",
       "  <thead>\n",
       "    <tr style=\"text-align: right;\">\n",
       "      <th></th>\n",
       "      <th>loan_amnt</th>\n",
       "      <th>funded_amnt</th>\n",
       "      <th>funded_amnt_inv</th>\n",
       "      <th>term</th>\n",
       "      <th>int_rate</th>\n",
       "      <th>installment</th>\n",
       "      <th>grade</th>\n",
       "      <th>sub_grade</th>\n",
       "      <th>emp_length</th>\n",
       "      <th>home_ownership</th>\n",
       "      <th>...</th>\n",
       "      <th>pub_rec</th>\n",
       "      <th>revol_util</th>\n",
       "      <th>total_acc</th>\n",
       "      <th>int_rate_range</th>\n",
       "      <th>loan_amnt_range</th>\n",
       "      <th>funded_amnt_range</th>\n",
       "      <th>installment_range</th>\n",
       "      <th>dti_range</th>\n",
       "      <th>annual_income_range</th>\n",
       "      <th>open_acc_range</th>\n",
       "    </tr>\n",
       "  </thead>\n",
       "  <tbody>\n",
       "    <tr>\n",
       "      <th>0</th>\n",
       "      <td>5000</td>\n",
       "      <td>5000</td>\n",
       "      <td>4975.0</td>\n",
       "      <td>36 months</td>\n",
       "      <td>10.65</td>\n",
       "      <td>162.87</td>\n",
       "      <td>B</td>\n",
       "      <td>B2</td>\n",
       "      <td>10</td>\n",
       "      <td>RENT</td>\n",
       "      <td>...</td>\n",
       "      <td>0</td>\n",
       "      <td>83.7</td>\n",
       "      <td>9</td>\n",
       "      <td>9%-13%</td>\n",
       "      <td>4k-8k</td>\n",
       "      <td>4k-8k</td>\n",
       "      <td>150-300</td>\n",
       "      <td>27-30</td>\n",
       "      <td>20k-36K</td>\n",
       "      <td>0-5</td>\n",
       "    </tr>\n",
       "    <tr>\n",
       "      <th>1</th>\n",
       "      <td>2500</td>\n",
       "      <td>2500</td>\n",
       "      <td>2500.0</td>\n",
       "      <td>60 months</td>\n",
       "      <td>15.27</td>\n",
       "      <td>59.83</td>\n",
       "      <td>C</td>\n",
       "      <td>C4</td>\n",
       "      <td>0</td>\n",
       "      <td>RENT</td>\n",
       "      <td>...</td>\n",
       "      <td>0</td>\n",
       "      <td>9.4</td>\n",
       "      <td>4</td>\n",
       "      <td>13%-17%</td>\n",
       "      <td>0-4k</td>\n",
       "      <td>0-4k</td>\n",
       "      <td>15-150</td>\n",
       "      <td>0-3</td>\n",
       "      <td>20k-36K</td>\n",
       "      <td>0-5</td>\n",
       "    </tr>\n",
       "    <tr>\n",
       "      <th>2</th>\n",
       "      <td>2400</td>\n",
       "      <td>2400</td>\n",
       "      <td>2400.0</td>\n",
       "      <td>36 months</td>\n",
       "      <td>15.96</td>\n",
       "      <td>84.33</td>\n",
       "      <td>C</td>\n",
       "      <td>C5</td>\n",
       "      <td>10</td>\n",
       "      <td>RENT</td>\n",
       "      <td>...</td>\n",
       "      <td>0</td>\n",
       "      <td>98.5</td>\n",
       "      <td>10</td>\n",
       "      <td>13%-17%</td>\n",
       "      <td>0-4k</td>\n",
       "      <td>0-4k</td>\n",
       "      <td>15-150</td>\n",
       "      <td>6-9</td>\n",
       "      <td>4K-20K</td>\n",
       "      <td>0-5</td>\n",
       "    </tr>\n",
       "    <tr>\n",
       "      <th>3</th>\n",
       "      <td>10000</td>\n",
       "      <td>10000</td>\n",
       "      <td>10000.0</td>\n",
       "      <td>36 months</td>\n",
       "      <td>13.49</td>\n",
       "      <td>339.31</td>\n",
       "      <td>C</td>\n",
       "      <td>C1</td>\n",
       "      <td>10</td>\n",
       "      <td>RENT</td>\n",
       "      <td>...</td>\n",
       "      <td>0</td>\n",
       "      <td>21.0</td>\n",
       "      <td>37</td>\n",
       "      <td>13%-17%</td>\n",
       "      <td>8k-12k</td>\n",
       "      <td>8k-12k</td>\n",
       "      <td>300-450</td>\n",
       "      <td>18-21</td>\n",
       "      <td>36k-52k</td>\n",
       "      <td>5-10</td>\n",
       "    </tr>\n",
       "    <tr>\n",
       "      <th>5</th>\n",
       "      <td>5000</td>\n",
       "      <td>5000</td>\n",
       "      <td>5000.0</td>\n",
       "      <td>36 months</td>\n",
       "      <td>7.90</td>\n",
       "      <td>156.46</td>\n",
       "      <td>A</td>\n",
       "      <td>A4</td>\n",
       "      <td>3</td>\n",
       "      <td>RENT</td>\n",
       "      <td>...</td>\n",
       "      <td>0</td>\n",
       "      <td>28.3</td>\n",
       "      <td>12</td>\n",
       "      <td>5%-9%</td>\n",
       "      <td>4k-8k</td>\n",
       "      <td>4k-8k</td>\n",
       "      <td>150-300</td>\n",
       "      <td>9-12</td>\n",
       "      <td>36k-52k</td>\n",
       "      <td>5-10</td>\n",
       "    </tr>\n",
       "  </tbody>\n",
       "</table>\n",
       "<p>5 rows × 29 columns</p>\n",
       "</div>"
      ],
      "text/plain": [
       "   loan_amnt  funded_amnt  funded_amnt_inv        term  int_rate  installment  \\\n",
       "0       5000         5000           4975.0   36 months     10.65       162.87   \n",
       "1       2500         2500           2500.0   60 months     15.27        59.83   \n",
       "2       2400         2400           2400.0   36 months     15.96        84.33   \n",
       "3      10000        10000          10000.0   36 months     13.49       339.31   \n",
       "5       5000         5000           5000.0   36 months      7.90       156.46   \n",
       "\n",
       "  grade sub_grade  emp_length home_ownership  ...  pub_rec revol_util  \\\n",
       "0     B        B2          10           RENT  ...        0       83.7   \n",
       "1     C        C4           0           RENT  ...        0        9.4   \n",
       "2     C        C5          10           RENT  ...        0       98.5   \n",
       "3     C        C1          10           RENT  ...        0       21.0   \n",
       "5     A        A4           3           RENT  ...        0       28.3   \n",
       "\n",
       "  total_acc int_rate_range loan_amnt_range  funded_amnt_range  \\\n",
       "0         9         9%-13%           4k-8k              4k-8k   \n",
       "1         4        13%-17%            0-4k               0-4k   \n",
       "2        10        13%-17%            0-4k               0-4k   \n",
       "3        37        13%-17%          8k-12k             8k-12k   \n",
       "5        12          5%-9%           4k-8k              4k-8k   \n",
       "\n",
       "  installment_range  dti_range  annual_income_range  open_acc_range  \n",
       "0           150-300      27-30              20k-36K             0-5  \n",
       "1            15-150        0-3              20k-36K             0-5  \n",
       "2            15-150        6-9               4K-20K             0-5  \n",
       "3           300-450      18-21              36k-52k            5-10  \n",
       "5           150-300       9-12              36k-52k            5-10  \n",
       "\n",
       "[5 rows x 29 columns]"
      ]
     },
     "execution_count": 266,
     "metadata": {},
     "output_type": "execute_result"
    }
   ],
   "source": [
    "loan_data.head()"
   ]
  },
  {
   "cell_type": "markdown",
   "id": "737553cb-8974-4c32-96e2-cca3194958b0",
   "metadata": {},
   "source": [
    "### Analysis of Loan Amount with other columns"
   ]
  },
  {
   "cell_type": "markdown",
   "id": "4ed67afa-67b2-419c-8737-601fdbdbcb07",
   "metadata": {},
   "source": [
    "#### Loan Amount vs Term"
   ]
  },
  {
   "cell_type": "code",
   "execution_count": 267,
   "id": "ed77ce0c-e1ba-4508-a73c-73fb8ad11df8",
   "metadata": {},
   "outputs": [
    {
     "data": {
      "image/png": "[encoded data removed]",
      "text/plain": [
       "<Figure size 640x480 with 1 Axes>"
      ]
     },
     "metadata": {},
     "output_type": "display_data"
    }
   ],
   "source": [
    "#Analysis of  Loan Amount vs Term\n",
    "sns.barplot(data =loan_data,x='loan_amnt', y='term', hue ='loan_status',palette=\"deep\")\n",
    "plt.show()\n"
   ]
  },
  {
   "cell_type": "markdown",
   "id": "c0a3568a-e932-4669-909c-062f8133f1cd",
   "metadata": {},
   "source": [
    "__Applicants applying for long term applied for more loans__ "
   ]
  },
  {
   "cell_type": "markdown",
   "id": "b8fc93bf-d63a-4d7b-8401-2a02c6cf16ff",
   "metadata": {},
   "source": [
    "#### Loan Amount vs Interest Rates"
   ]
  },
  {
   "cell_type": "code",
   "execution_count": 268,
   "id": "e9a3826a-e8f9-44c4-b6b8-6d51bf1c8222",
   "metadata": {},
   "outputs": [
    {
     "data": {
      "image/png": "[encoded data removed]",
      "text/plain": [
       "<Figure size 1000x1000 with 1 Axes>"
      ]
     },
     "metadata": {},
     "output_type": "display_data"
    }
   ],
   "source": [
    "#Analysis of  Loan Amount vs Interest Rates\n",
    "plt.figure(figsize=(10,10))\n",
    "sns.barplot(data =loan_data,x='loan_amnt_range', y='int_rate', hue ='loan_status',palette=\"deep\")\n",
    "plt.show()\n"
   ]
  },
  {
   "cell_type": "markdown",
   "id": "70fc638d-b8f4-419c-b3d6-9867c8b67aff",
   "metadata": {},
   "source": [
    "__Applicants having loan amount in the range of 32k-36k and Interest rates in the range of 15-17.5 have the high chance of being defaulted__ "
   ]
  },
  {
   "cell_type": "markdown",
   "id": "10deb3d3-a30c-40b2-9215-94b494ac7022",
   "metadata": {},
   "source": [
    "#### Loan Amount vs Installment"
   ]
  },
  {
   "cell_type": "code",
   "execution_count": 269,
   "id": "4721d363-21e3-4284-8f7e-e9ffe77887f6",
   "metadata": {},
   "outputs": [
    {
     "data": {
      "image/png": "[encoded data removed]",
      "text/plain": [
       "<Figure size 1000x1000 with 1 Axes>"
      ]
     },
     "metadata": {},
     "output_type": "display_data"
    }
   ],
   "source": [
    "#Analysis of  Loan Amount vs Installments\n",
    "plt.figure(figsize=(10,10))\n",
    "sns.barplot(data =loan_data,x='loan_amnt_range', y='installment', hue ='loan_status',palette=\"deep\")\n",
    "plt.show()\n"
   ]
  },
  {
   "cell_type": "markdown",
   "id": "084e82e1-2ca4-4e47-a68d-d271b41b4c31",
   "metadata": {},
   "source": [
    "__Applicants having loan amount in the range of 32k-36k and monthly installment amount greater than 800 have the high chance of being defaulted__ "
   ]
  },
  {
   "cell_type": "markdown",
   "id": "7729607c-93c7-4716-86e4-99d5bce446d2",
   "metadata": {},
   "source": [
    "#### Loan Amount vs Grade"
   ]
  },
  {
   "cell_type": "code",
   "execution_count": 270,
   "id": "1a2f9483-50cc-4178-ac43-f947a25bc923",
   "metadata": {},
   "outputs": [
    {
     "data": {
      "image/png": "[encoded data removed]",
      "text/plain": [
       "<Figure size 1000x1000 with 1 Axes>"
      ]
     },
     "metadata": {},
     "output_type": "display_data"
    }
   ],
   "source": [
    "#Analysis of  Loan Amount vs Grade\n",
    "plt.figure(figsize=(10,10))\n",
    "sns.barplot(data =loan_data,x='loan_amnt', y='grade', hue ='loan_status',palette=\"deep\", order=['A','B','C','D','E','F','G'])\n",
    "plt.show()\n"
   ]
  },
  {
   "cell_type": "markdown",
   "id": "680bdabd-9f5d-481f-994e-bed4e5917a7a",
   "metadata": {},
   "source": [
    "__Applicants having loan amount in the range of 15k-17.5k and Grade is F have the high chance of being defaulted__ "
   ]
  },
  {
   "cell_type": "markdown",
   "id": "75dbeba2-c524-4083-a2a2-687b9ed465e3",
   "metadata": {},
   "source": [
    "#### Loan Amount vs Employee Length"
   ]
  },
  {
   "cell_type": "code",
   "execution_count": 271,
   "id": "1492e57c-148f-4111-8cd7-28a21488264c",
   "metadata": {},
   "outputs": [
    {
     "data": {
      "image/png": "[encoded data removed]",
      "text/plain": [
       "<Figure size 1000x1000 with 1 Axes>"
      ]
     },
     "metadata": {},
     "output_type": "display_data"
    }
   ],
   "source": [
    "#Analysis of  Loan Amount vs Employee Length\n",
    "plt.figure(figsize=(10,10))\n",
    "sns.barplot(data =loan_data,x='loan_amnt_range', y='emp_length', hue ='loan_status',palette=\"deep\")\n",
    "plt.show()\n"
   ]
  },
  {
   "cell_type": "markdown",
   "id": "7fb5a2d1-e88f-4d9e-a8a0-ae6a41ef76ae",
   "metadata": {},
   "source": [
    "__Applicants having loan amount in the range of 24k-36k and Employee length between 6 to 7 years have the high chance of being defaulted__ "
   ]
  },
  {
   "cell_type": "markdown",
   "id": "987fffea-4888-4a24-83b9-8183de7e9785",
   "metadata": {},
   "source": [
    "#### Loan Amount vs Home Ownership"
   ]
  },
  {
   "cell_type": "code",
   "execution_count": 272,
   "id": "eb54ca6a-0875-43b0-9ad0-23f946200fda",
   "metadata": {},
   "outputs": [
    {
     "data": {
      "image/png": "[encoded data removed]",
      "text/plain": [
       "<Figure size 1000x1000 with 1 Axes>"
      ]
     },
     "metadata": {},
     "output_type": "display_data"
    }
   ],
   "source": [
    "#Analysis of  Loan Amount vs Home Ownership\n",
    "plt.figure(figsize=(10,10))\n",
    "sns.barplot(data =loan_data,x='loan_amnt', y='home_ownership', hue ='loan_status',palette=\"deep\")\n",
    "plt.show()\n"
   ]
  },
  {
   "cell_type": "markdown",
   "id": "91f06073-9bbc-4481-ba7f-4239324af99f",
   "metadata": {},
   "source": [
    "__Applicants having loan amount in the range of 12k-14k and  who are not owning the home have the high chance of being defaulted__ "
   ]
  },
  {
   "cell_type": "markdown",
   "id": "06801b4c-128c-4d02-931b-e87138ec0146",
   "metadata": {},
   "source": [
    "#### Loan Amount vs Annual Income"
   ]
  },
  {
   "cell_type": "code",
   "execution_count": 273,
   "id": "9f542efe-a291-4ee6-bd91-4bd3247259e3",
   "metadata": {},
   "outputs": [
    {
     "data": {
      "image/png": "[encoded data removed]",
      "text/plain": [
       "<Figure size 1000x1000 with 1 Axes>"
      ]
     },
     "metadata": {},
     "output_type": "display_data"
    }
   ],
   "source": [
    "#Analysis of  Loan Amount vs Annual Income\n",
    "plt.figure(figsize=(10,10))\n",
    "sns.barplot(data =loan_data,x='loan_amnt_range', y='annual_inc', hue ='loan_status',palette=\"deep\")\n",
    "plt.show()\n"
   ]
  },
  {
   "cell_type": "markdown",
   "id": "c43801ae-c226-4c66-9d51-ffd390cacb5a",
   "metadata": {},
   "source": [
    "__Applicants having loan amount in the range of 32k-36k and annual income in range of 70k-80k  have the high chance of being defaulted__ "
   ]
  },
  {
   "cell_type": "markdown",
   "id": "0a73d30f-e92e-4c55-a406-e34bc662a626",
   "metadata": {},
   "source": [
    "#### Loan Amount vs Purpose"
   ]
  },
  {
   "cell_type": "code",
   "execution_count": 274,
   "id": "b8482c14-518f-420e-afe4-6e7a433e1d25",
   "metadata": {},
   "outputs": [
    {
     "data": {
      "image/png": "[encoded data removed]",
      "text/plain": [
       "<Figure size 1000x1000 with 1 Axes>"
      ]
     },
     "metadata": {},
     "output_type": "display_data"
    }
   ],
   "source": [
    "#Analysis of  Loan Amount vs Purpose\n",
    "plt.figure(figsize=(10,10))\n",
    "sns.barplot(data =loan_data,x='loan_amnt', y='purpose', hue ='loan_status',palette=\"deep\")\n",
    "plt.show()"
   ]
  },
  {
   "cell_type": "markdown",
   "id": "6754ee5d-30fc-4e9d-803a-9f211101f798",
   "metadata": {},
   "source": [
    "__Applicants having loan amount in the range of 12k-14k and  taken a loan for small business  have the high chance of being defaulted___ "
   ]
  },
  {
   "cell_type": "markdown",
   "id": "1508df22-8553-4d74-8c52-49922181ec59",
   "metadata": {},
   "source": [
    "__OBSERVATIONS ON ABOVE ANALYZED DATA__  \n",
    "\n",
    "__For the Charged off loans there is a more chance of Applicant being default is as follows__   \n",
    "\n",
    "- Applicants having loan amount in the range of 12k-14k and  taken a loan for small business\n",
    "- Applicants having loan amount in the range of 32k-36k and annual income in range of 70k-80k\n",
    "- Applicants having loan amount in the range of 12k-14k and  who are not owning the home\n",
    "- Applicants having loan amount in the range of 24k-36k and Employee length between 6 to 7 years\n",
    "- Applicants having loan amount in the range of 32k-36k and monthly installment amount greater than 800\n",
    "- Applicants having loan amount in the range of 32k-36k and Interest rates in the range of 15-17.5\n",
    "- Applicants having loan amount in the range of 15k-17.5k and Grade is F"
   ]
  },
  {
   "cell_type": "code",
   "execution_count": null,
   "id": "e89b7ab6-79a3-47d0-ade7-3bac087485b2",
   "metadata": {},
   "outputs": [],
   "source": []
  }
 ],
 "metadata": {
  "kernelspec": {
   "display_name": "Python 3 (ipykernel)",
   "language": "python",
   "name": "python3"
  },
  "language_info": {
   "codemirror_mode": {
    "name": "ipython",
    "version": 3
   },
   "file_extension": ".py",
   "mimetype": "text/x-python",
   "name": "python",
   "nbconvert_exporter": "python",
   "pygments_lexer": "ipython3",
   "version": "3.12.4"
  }
 },
 "nbformat": 4,
 "nbformat_minor": 5
}
